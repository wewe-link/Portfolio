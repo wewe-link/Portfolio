{
  "cells": [
    {
      "cell_type": "markdown",
      "metadata": {
        "id": "KY-Ms21LJsk3"
      },
      "source": [
        "# **Video processing**"
      ]
    },
    {
      "cell_type": "markdown",
      "source": [
        "## Video importing and *причесывание*"
      ],
      "metadata": {
        "id": "rAfxJa7cAu9z"
      }
    },
    {
      "cell_type": "markdown",
      "metadata": {
        "id": "M-MW3-NxfbMl"
      },
      "source": [
        "Importing the video from **my** google drive"
      ]
    },
    {
      "cell_type": "code",
      "source": [
        "from google.colab import drive\n",
        "drive.mount('/content/drive')"
      ],
      "metadata": {
        "id": "ms1no7t8lNTw",
        "colab": {
          "base_uri": "https://localhost:8080/"
        },
        "outputId": "b37b4571-4fde-401d-eb6c-b2a2730edd27"
      },
      "execution_count": 2,
      "outputs": [
        {
          "output_type": "stream",
          "name": "stdout",
          "text": [
            "Mounted at /content/drive\n"
          ]
        }
      ]
    },
    {
      "cell_type": "markdown",
      "source": [
        "Importing the video from somebody's google srive"
      ],
      "metadata": {
        "id": "wMPYpDcVSYr3"
      }
    },
    {
      "cell_type": "code",
      "execution_count": null,
      "metadata": {
        "colab": {
          "base_uri": "https://localhost:8080/",
          "height": 443
        },
        "id": "-6ocNBiCThDp",
        "outputId": "d832d471-41d8-49d8-ce10-2c8ebcb09a96"
      },
      "outputs": [
        {
          "output_type": "stream",
          "name": "stderr",
          "text": [
            "Downloading...\n",
            "From (original): https://drive.google.com/uc?id=1olPiH_AMXrbLM8-isv35ZV2GdBeH4Hk9\n",
            "From (redirected): https://drive.google.com/uc?id=1olPiH_AMXrbLM8-isv35ZV2GdBeH4Hk9&confirm=t&uuid=bde94332-d8cc-48b8-bde5-6a27d2d2e5a6\n",
            "To: /content/video.mp4\n",
            "  9%|▉         | 268M/2.97G [00:03<00:38, 70.7MB/s]"
          ]
        },
        {
          "output_type": "error",
          "ename": "KeyboardInterrupt",
          "evalue": "",
          "traceback": [
            "\u001b[0;31m---------------------------------------------------------------------------\u001b[0m",
            "\u001b[0;31mKeyboardInterrupt\u001b[0m                         Traceback (most recent call last)",
            "\u001b[0;32m<ipython-input-2-8dd0f279623f>\u001b[0m in \u001b[0;36m<cell line: 7>\u001b[0;34m()\u001b[0m\n\u001b[1;32m      5\u001b[0m \u001b[0;34m\u001b[0m\u001b[0m\n\u001b[1;32m      6\u001b[0m \u001b[0;32mimport\u001b[0m \u001b[0mgdown\u001b[0m\u001b[0;34m\u001b[0m\u001b[0;34m\u001b[0m\u001b[0m\n\u001b[0;32m----> 7\u001b[0;31m \u001b[0mgdown\u001b[0m\u001b[0;34m.\u001b[0m\u001b[0mdownload\u001b[0m\u001b[0;34m(\u001b[0m\u001b[0;34mf\"https://drive.google.com/uc?id={file_id}\"\u001b[0m\u001b[0;34m,\u001b[0m \u001b[0mdestination\u001b[0m\u001b[0;34m,\u001b[0m \u001b[0mquiet\u001b[0m\u001b[0;34m=\u001b[0m\u001b[0;32mFalse\u001b[0m\u001b[0;34m)\u001b[0m\u001b[0;34m\u001b[0m\u001b[0;34m\u001b[0m\u001b[0m\n\u001b[0m\u001b[1;32m      8\u001b[0m \u001b[0;34m\u001b[0m\u001b[0m\n\u001b[1;32m      9\u001b[0m \u001b[0;31m# Check if the file is saved\u001b[0m\u001b[0;34m\u001b[0m\u001b[0;34m\u001b[0m\u001b[0m\n",
            "\u001b[0;32m/usr/local/lib/python3.10/dist-packages/gdown/download.py\u001b[0m in \u001b[0;36mdownload\u001b[0;34m(url, output, quiet, proxy, speed, use_cookies, verify, id, fuzzy, resume, format, user_agent, log_messages)\u001b[0m\n\u001b[1;32m    366\u001b[0m             \u001b[0mpbar\u001b[0m \u001b[0;34m=\u001b[0m \u001b[0mtqdm\u001b[0m\u001b[0;34m.\u001b[0m\u001b[0mtqdm\u001b[0m\u001b[0;34m(\u001b[0m\u001b[0mtotal\u001b[0m\u001b[0;34m=\u001b[0m\u001b[0mtotal\u001b[0m\u001b[0;34m,\u001b[0m \u001b[0munit\u001b[0m\u001b[0;34m=\u001b[0m\u001b[0;34m\"B\"\u001b[0m\u001b[0;34m,\u001b[0m \u001b[0minitial\u001b[0m\u001b[0;34m=\u001b[0m\u001b[0mstart_size\u001b[0m\u001b[0;34m,\u001b[0m \u001b[0munit_scale\u001b[0m\u001b[0;34m=\u001b[0m\u001b[0;32mTrue\u001b[0m\u001b[0;34m)\u001b[0m\u001b[0;34m\u001b[0m\u001b[0;34m\u001b[0m\u001b[0m\n\u001b[1;32m    367\u001b[0m         \u001b[0mt_start\u001b[0m \u001b[0;34m=\u001b[0m \u001b[0mtime\u001b[0m\u001b[0;34m.\u001b[0m\u001b[0mtime\u001b[0m\u001b[0;34m(\u001b[0m\u001b[0;34m)\u001b[0m\u001b[0;34m\u001b[0m\u001b[0;34m\u001b[0m\u001b[0m\n\u001b[0;32m--> 368\u001b[0;31m         \u001b[0;32mfor\u001b[0m \u001b[0mchunk\u001b[0m \u001b[0;32min\u001b[0m \u001b[0mres\u001b[0m\u001b[0;34m.\u001b[0m\u001b[0miter_content\u001b[0m\u001b[0;34m(\u001b[0m\u001b[0mchunk_size\u001b[0m\u001b[0;34m=\u001b[0m\u001b[0mCHUNK_SIZE\u001b[0m\u001b[0;34m)\u001b[0m\u001b[0;34m:\u001b[0m\u001b[0;34m\u001b[0m\u001b[0;34m\u001b[0m\u001b[0m\n\u001b[0m\u001b[1;32m    369\u001b[0m             \u001b[0mf\u001b[0m\u001b[0;34m.\u001b[0m\u001b[0mwrite\u001b[0m\u001b[0;34m(\u001b[0m\u001b[0mchunk\u001b[0m\u001b[0;34m)\u001b[0m\u001b[0;34m\u001b[0m\u001b[0;34m\u001b[0m\u001b[0m\n\u001b[1;32m    370\u001b[0m             \u001b[0;32mif\u001b[0m \u001b[0;32mnot\u001b[0m \u001b[0mquiet\u001b[0m\u001b[0;34m:\u001b[0m\u001b[0;34m\u001b[0m\u001b[0;34m\u001b[0m\u001b[0m\n",
            "\u001b[0;32m/usr/local/lib/python3.10/dist-packages/requests/models.py\u001b[0m in \u001b[0;36mgenerate\u001b[0;34m()\u001b[0m\n\u001b[1;32m    818\u001b[0m             \u001b[0;32mif\u001b[0m \u001b[0mhasattr\u001b[0m\u001b[0;34m(\u001b[0m\u001b[0mself\u001b[0m\u001b[0;34m.\u001b[0m\u001b[0mraw\u001b[0m\u001b[0;34m,\u001b[0m \u001b[0;34m\"stream\"\u001b[0m\u001b[0;34m)\u001b[0m\u001b[0;34m:\u001b[0m\u001b[0;34m\u001b[0m\u001b[0;34m\u001b[0m\u001b[0m\n\u001b[1;32m    819\u001b[0m                 \u001b[0;32mtry\u001b[0m\u001b[0;34m:\u001b[0m\u001b[0;34m\u001b[0m\u001b[0;34m\u001b[0m\u001b[0m\n\u001b[0;32m--> 820\u001b[0;31m                     \u001b[0;32myield\u001b[0m \u001b[0;32mfrom\u001b[0m \u001b[0mself\u001b[0m\u001b[0;34m.\u001b[0m\u001b[0mraw\u001b[0m\u001b[0;34m.\u001b[0m\u001b[0mstream\u001b[0m\u001b[0;34m(\u001b[0m\u001b[0mchunk_size\u001b[0m\u001b[0;34m,\u001b[0m \u001b[0mdecode_content\u001b[0m\u001b[0;34m=\u001b[0m\u001b[0;32mTrue\u001b[0m\u001b[0;34m)\u001b[0m\u001b[0;34m\u001b[0m\u001b[0;34m\u001b[0m\u001b[0m\n\u001b[0m\u001b[1;32m    821\u001b[0m                 \u001b[0;32mexcept\u001b[0m \u001b[0mProtocolError\u001b[0m \u001b[0;32mas\u001b[0m \u001b[0me\u001b[0m\u001b[0;34m:\u001b[0m\u001b[0;34m\u001b[0m\u001b[0;34m\u001b[0m\u001b[0m\n\u001b[1;32m    822\u001b[0m                     \u001b[0;32mraise\u001b[0m \u001b[0mChunkedEncodingError\u001b[0m\u001b[0;34m(\u001b[0m\u001b[0me\u001b[0m\u001b[0;34m)\u001b[0m\u001b[0;34m\u001b[0m\u001b[0;34m\u001b[0m\u001b[0m\n",
            "\u001b[0;32m/usr/local/lib/python3.10/dist-packages/urllib3/response.py\u001b[0m in \u001b[0;36mstream\u001b[0;34m(self, amt, decode_content)\u001b[0m\n\u001b[1;32m   1058\u001b[0m         \u001b[0;32melse\u001b[0m\u001b[0;34m:\u001b[0m\u001b[0;34m\u001b[0m\u001b[0;34m\u001b[0m\u001b[0m\n\u001b[1;32m   1059\u001b[0m             \u001b[0;32mwhile\u001b[0m \u001b[0;32mnot\u001b[0m \u001b[0mis_fp_closed\u001b[0m\u001b[0;34m(\u001b[0m\u001b[0mself\u001b[0m\u001b[0;34m.\u001b[0m\u001b[0m_fp\u001b[0m\u001b[0;34m)\u001b[0m \u001b[0;32mor\u001b[0m \u001b[0mlen\u001b[0m\u001b[0;34m(\u001b[0m\u001b[0mself\u001b[0m\u001b[0;34m.\u001b[0m\u001b[0m_decoded_buffer\u001b[0m\u001b[0;34m)\u001b[0m \u001b[0;34m>\u001b[0m \u001b[0;36m0\u001b[0m\u001b[0;34m:\u001b[0m\u001b[0;34m\u001b[0m\u001b[0;34m\u001b[0m\u001b[0m\n\u001b[0;32m-> 1060\u001b[0;31m                 \u001b[0mdata\u001b[0m \u001b[0;34m=\u001b[0m \u001b[0mself\u001b[0m\u001b[0;34m.\u001b[0m\u001b[0mread\u001b[0m\u001b[0;34m(\u001b[0m\u001b[0mamt\u001b[0m\u001b[0;34m=\u001b[0m\u001b[0mamt\u001b[0m\u001b[0;34m,\u001b[0m \u001b[0mdecode_content\u001b[0m\u001b[0;34m=\u001b[0m\u001b[0mdecode_content\u001b[0m\u001b[0;34m)\u001b[0m\u001b[0;34m\u001b[0m\u001b[0;34m\u001b[0m\u001b[0m\n\u001b[0m\u001b[1;32m   1061\u001b[0m \u001b[0;34m\u001b[0m\u001b[0m\n\u001b[1;32m   1062\u001b[0m                 \u001b[0;32mif\u001b[0m \u001b[0mdata\u001b[0m\u001b[0;34m:\u001b[0m\u001b[0;34m\u001b[0m\u001b[0;34m\u001b[0m\u001b[0m\n",
            "\u001b[0;32m/usr/local/lib/python3.10/dist-packages/urllib3/response.py\u001b[0m in \u001b[0;36mread\u001b[0;34m(self, amt, decode_content, cache_content)\u001b[0m\n\u001b[1;32m    947\u001b[0m                 \u001b[0;32mreturn\u001b[0m \u001b[0mself\u001b[0m\u001b[0;34m.\u001b[0m\u001b[0m_decoded_buffer\u001b[0m\u001b[0;34m.\u001b[0m\u001b[0mget\u001b[0m\u001b[0;34m(\u001b[0m\u001b[0mamt\u001b[0m\u001b[0;34m)\u001b[0m\u001b[0;34m\u001b[0m\u001b[0;34m\u001b[0m\u001b[0m\n\u001b[1;32m    948\u001b[0m \u001b[0;34m\u001b[0m\u001b[0m\n\u001b[0;32m--> 949\u001b[0;31m         \u001b[0mdata\u001b[0m \u001b[0;34m=\u001b[0m \u001b[0mself\u001b[0m\u001b[0;34m.\u001b[0m\u001b[0m_raw_read\u001b[0m\u001b[0;34m(\u001b[0m\u001b[0mamt\u001b[0m\u001b[0;34m)\u001b[0m\u001b[0;34m\u001b[0m\u001b[0;34m\u001b[0m\u001b[0m\n\u001b[0m\u001b[1;32m    950\u001b[0m \u001b[0;34m\u001b[0m\u001b[0m\n\u001b[1;32m    951\u001b[0m         \u001b[0mflush_decoder\u001b[0m \u001b[0;34m=\u001b[0m \u001b[0mamt\u001b[0m \u001b[0;32mis\u001b[0m \u001b[0;32mNone\u001b[0m \u001b[0;32mor\u001b[0m \u001b[0;34m(\u001b[0m\u001b[0mamt\u001b[0m \u001b[0;34m!=\u001b[0m \u001b[0;36m0\u001b[0m \u001b[0;32mand\u001b[0m \u001b[0;32mnot\u001b[0m \u001b[0mdata\u001b[0m\u001b[0;34m)\u001b[0m\u001b[0;34m\u001b[0m\u001b[0;34m\u001b[0m\u001b[0m\n",
            "\u001b[0;32m/usr/local/lib/python3.10/dist-packages/urllib3/response.py\u001b[0m in \u001b[0;36m_raw_read\u001b[0;34m(self, amt, read1)\u001b[0m\n\u001b[1;32m    871\u001b[0m \u001b[0;34m\u001b[0m\u001b[0m\n\u001b[1;32m    872\u001b[0m         \u001b[0;32mwith\u001b[0m \u001b[0mself\u001b[0m\u001b[0;34m.\u001b[0m\u001b[0m_error_catcher\u001b[0m\u001b[0;34m(\u001b[0m\u001b[0;34m)\u001b[0m\u001b[0;34m:\u001b[0m\u001b[0;34m\u001b[0m\u001b[0;34m\u001b[0m\u001b[0m\n\u001b[0;32m--> 873\u001b[0;31m             \u001b[0mdata\u001b[0m \u001b[0;34m=\u001b[0m \u001b[0mself\u001b[0m\u001b[0;34m.\u001b[0m\u001b[0m_fp_read\u001b[0m\u001b[0;34m(\u001b[0m\u001b[0mamt\u001b[0m\u001b[0;34m,\u001b[0m \u001b[0mread1\u001b[0m\u001b[0;34m=\u001b[0m\u001b[0mread1\u001b[0m\u001b[0;34m)\u001b[0m \u001b[0;32mif\u001b[0m \u001b[0;32mnot\u001b[0m \u001b[0mfp_closed\u001b[0m \u001b[0;32melse\u001b[0m \u001b[0;34mb\"\"\u001b[0m\u001b[0;34m\u001b[0m\u001b[0;34m\u001b[0m\u001b[0m\n\u001b[0m\u001b[1;32m    874\u001b[0m             \u001b[0;32mif\u001b[0m \u001b[0mamt\u001b[0m \u001b[0;32mis\u001b[0m \u001b[0;32mnot\u001b[0m \u001b[0;32mNone\u001b[0m \u001b[0;32mand\u001b[0m \u001b[0mamt\u001b[0m \u001b[0;34m!=\u001b[0m \u001b[0;36m0\u001b[0m \u001b[0;32mand\u001b[0m \u001b[0;32mnot\u001b[0m \u001b[0mdata\u001b[0m\u001b[0;34m:\u001b[0m\u001b[0;34m\u001b[0m\u001b[0;34m\u001b[0m\u001b[0m\n\u001b[1;32m    875\u001b[0m                 \u001b[0;31m# Platform-specific: Buggy versions of Python.\u001b[0m\u001b[0;34m\u001b[0m\u001b[0;34m\u001b[0m\u001b[0m\n",
            "\u001b[0;32m/usr/local/lib/python3.10/dist-packages/urllib3/response.py\u001b[0m in \u001b[0;36m_fp_read\u001b[0;34m(self, amt, read1)\u001b[0m\n\u001b[1;32m    854\u001b[0m         \u001b[0;32melse\u001b[0m\u001b[0;34m:\u001b[0m\u001b[0;34m\u001b[0m\u001b[0;34m\u001b[0m\u001b[0m\n\u001b[1;32m    855\u001b[0m             \u001b[0;31m# StringIO doesn't like amt=None\u001b[0m\u001b[0;34m\u001b[0m\u001b[0;34m\u001b[0m\u001b[0m\n\u001b[0;32m--> 856\u001b[0;31m             \u001b[0;32mreturn\u001b[0m \u001b[0mself\u001b[0m\u001b[0;34m.\u001b[0m\u001b[0m_fp\u001b[0m\u001b[0;34m.\u001b[0m\u001b[0mread\u001b[0m\u001b[0;34m(\u001b[0m\u001b[0mamt\u001b[0m\u001b[0;34m)\u001b[0m \u001b[0;32mif\u001b[0m \u001b[0mamt\u001b[0m \u001b[0;32mis\u001b[0m \u001b[0;32mnot\u001b[0m \u001b[0;32mNone\u001b[0m \u001b[0;32melse\u001b[0m \u001b[0mself\u001b[0m\u001b[0;34m.\u001b[0m\u001b[0m_fp\u001b[0m\u001b[0;34m.\u001b[0m\u001b[0mread\u001b[0m\u001b[0;34m(\u001b[0m\u001b[0;34m)\u001b[0m\u001b[0;34m\u001b[0m\u001b[0;34m\u001b[0m\u001b[0m\n\u001b[0m\u001b[1;32m    857\u001b[0m \u001b[0;34m\u001b[0m\u001b[0m\n\u001b[1;32m    858\u001b[0m     def _raw_read(\n",
            "\u001b[0;32m/usr/lib/python3.10/http/client.py\u001b[0m in \u001b[0;36mread\u001b[0;34m(self, amt)\u001b[0m\n\u001b[1;32m    464\u001b[0m                 \u001b[0;31m# clip the read to the \"end of response\"\u001b[0m\u001b[0;34m\u001b[0m\u001b[0;34m\u001b[0m\u001b[0m\n\u001b[1;32m    465\u001b[0m                 \u001b[0mamt\u001b[0m \u001b[0;34m=\u001b[0m \u001b[0mself\u001b[0m\u001b[0;34m.\u001b[0m\u001b[0mlength\u001b[0m\u001b[0;34m\u001b[0m\u001b[0;34m\u001b[0m\u001b[0m\n\u001b[0;32m--> 466\u001b[0;31m             \u001b[0ms\u001b[0m \u001b[0;34m=\u001b[0m \u001b[0mself\u001b[0m\u001b[0;34m.\u001b[0m\u001b[0mfp\u001b[0m\u001b[0;34m.\u001b[0m\u001b[0mread\u001b[0m\u001b[0;34m(\u001b[0m\u001b[0mamt\u001b[0m\u001b[0;34m)\u001b[0m\u001b[0;34m\u001b[0m\u001b[0;34m\u001b[0m\u001b[0m\n\u001b[0m\u001b[1;32m    467\u001b[0m             \u001b[0;32mif\u001b[0m \u001b[0;32mnot\u001b[0m \u001b[0ms\u001b[0m \u001b[0;32mand\u001b[0m \u001b[0mamt\u001b[0m\u001b[0;34m:\u001b[0m\u001b[0;34m\u001b[0m\u001b[0;34m\u001b[0m\u001b[0m\n\u001b[1;32m    468\u001b[0m                 \u001b[0;31m# Ideally, we would raise IncompleteRead if the content-length\u001b[0m\u001b[0;34m\u001b[0m\u001b[0;34m\u001b[0m\u001b[0m\n",
            "\u001b[0;32m/usr/lib/python3.10/socket.py\u001b[0m in \u001b[0;36mreadinto\u001b[0;34m(self, b)\u001b[0m\n\u001b[1;32m    703\u001b[0m         \u001b[0;32mwhile\u001b[0m \u001b[0;32mTrue\u001b[0m\u001b[0;34m:\u001b[0m\u001b[0;34m\u001b[0m\u001b[0;34m\u001b[0m\u001b[0m\n\u001b[1;32m    704\u001b[0m             \u001b[0;32mtry\u001b[0m\u001b[0;34m:\u001b[0m\u001b[0;34m\u001b[0m\u001b[0;34m\u001b[0m\u001b[0m\n\u001b[0;32m--> 705\u001b[0;31m                 \u001b[0;32mreturn\u001b[0m \u001b[0mself\u001b[0m\u001b[0;34m.\u001b[0m\u001b[0m_sock\u001b[0m\u001b[0;34m.\u001b[0m\u001b[0mrecv_into\u001b[0m\u001b[0;34m(\u001b[0m\u001b[0mb\u001b[0m\u001b[0;34m)\u001b[0m\u001b[0;34m\u001b[0m\u001b[0;34m\u001b[0m\u001b[0m\n\u001b[0m\u001b[1;32m    706\u001b[0m             \u001b[0;32mexcept\u001b[0m \u001b[0mtimeout\u001b[0m\u001b[0;34m:\u001b[0m\u001b[0;34m\u001b[0m\u001b[0;34m\u001b[0m\u001b[0m\n\u001b[1;32m    707\u001b[0m                 \u001b[0mself\u001b[0m\u001b[0;34m.\u001b[0m\u001b[0m_timeout_occurred\u001b[0m \u001b[0;34m=\u001b[0m \u001b[0;32mTrue\u001b[0m\u001b[0;34m\u001b[0m\u001b[0;34m\u001b[0m\u001b[0m\n",
            "\u001b[0;32m/usr/lib/python3.10/ssl.py\u001b[0m in \u001b[0;36mrecv_into\u001b[0;34m(self, buffer, nbytes, flags)\u001b[0m\n\u001b[1;32m   1301\u001b[0m                   \u001b[0;34m\"non-zero flags not allowed in calls to recv_into() on %s\"\u001b[0m \u001b[0;34m%\u001b[0m\u001b[0;34m\u001b[0m\u001b[0;34m\u001b[0m\u001b[0m\n\u001b[1;32m   1302\u001b[0m                   self.__class__)\n\u001b[0;32m-> 1303\u001b[0;31m             \u001b[0;32mreturn\u001b[0m \u001b[0mself\u001b[0m\u001b[0;34m.\u001b[0m\u001b[0mread\u001b[0m\u001b[0;34m(\u001b[0m\u001b[0mnbytes\u001b[0m\u001b[0;34m,\u001b[0m \u001b[0mbuffer\u001b[0m\u001b[0;34m)\u001b[0m\u001b[0;34m\u001b[0m\u001b[0;34m\u001b[0m\u001b[0m\n\u001b[0m\u001b[1;32m   1304\u001b[0m         \u001b[0;32melse\u001b[0m\u001b[0;34m:\u001b[0m\u001b[0;34m\u001b[0m\u001b[0;34m\u001b[0m\u001b[0m\n\u001b[1;32m   1305\u001b[0m             \u001b[0;32mreturn\u001b[0m \u001b[0msuper\u001b[0m\u001b[0;34m(\u001b[0m\u001b[0;34m)\u001b[0m\u001b[0;34m.\u001b[0m\u001b[0mrecv_into\u001b[0m\u001b[0;34m(\u001b[0m\u001b[0mbuffer\u001b[0m\u001b[0;34m,\u001b[0m \u001b[0mnbytes\u001b[0m\u001b[0;34m,\u001b[0m \u001b[0mflags\u001b[0m\u001b[0;34m)\u001b[0m\u001b[0;34m\u001b[0m\u001b[0;34m\u001b[0m\u001b[0m\n",
            "\u001b[0;32m/usr/lib/python3.10/ssl.py\u001b[0m in \u001b[0;36mread\u001b[0;34m(self, len, buffer)\u001b[0m\n\u001b[1;32m   1157\u001b[0m         \u001b[0;32mtry\u001b[0m\u001b[0;34m:\u001b[0m\u001b[0;34m\u001b[0m\u001b[0;34m\u001b[0m\u001b[0m\n\u001b[1;32m   1158\u001b[0m             \u001b[0;32mif\u001b[0m \u001b[0mbuffer\u001b[0m \u001b[0;32mis\u001b[0m \u001b[0;32mnot\u001b[0m \u001b[0;32mNone\u001b[0m\u001b[0;34m:\u001b[0m\u001b[0;34m\u001b[0m\u001b[0;34m\u001b[0m\u001b[0m\n\u001b[0;32m-> 1159\u001b[0;31m                 \u001b[0;32mreturn\u001b[0m \u001b[0mself\u001b[0m\u001b[0;34m.\u001b[0m\u001b[0m_sslobj\u001b[0m\u001b[0;34m.\u001b[0m\u001b[0mread\u001b[0m\u001b[0;34m(\u001b[0m\u001b[0mlen\u001b[0m\u001b[0;34m,\u001b[0m \u001b[0mbuffer\u001b[0m\u001b[0;34m)\u001b[0m\u001b[0;34m\u001b[0m\u001b[0;34m\u001b[0m\u001b[0m\n\u001b[0m\u001b[1;32m   1160\u001b[0m             \u001b[0;32melse\u001b[0m\u001b[0;34m:\u001b[0m\u001b[0;34m\u001b[0m\u001b[0;34m\u001b[0m\u001b[0m\n\u001b[1;32m   1161\u001b[0m                 \u001b[0;32mreturn\u001b[0m \u001b[0mself\u001b[0m\u001b[0;34m.\u001b[0m\u001b[0m_sslobj\u001b[0m\u001b[0;34m.\u001b[0m\u001b[0mread\u001b[0m\u001b[0;34m(\u001b[0m\u001b[0mlen\u001b[0m\u001b[0;34m)\u001b[0m\u001b[0;34m\u001b[0m\u001b[0;34m\u001b[0m\u001b[0m\n",
            "\u001b[0;31mKeyboardInterrupt\u001b[0m: "
          ]
        }
      ],
      "source": [
        "# https://drive.google.com/file/d/1olPiH_AMXrbLM8-isv35ZV2GdBeH4Hk9/view?usp=drivesdk\n",
        "\n",
        "file_id = \"1olPiH_AMXrbLM8-isv35ZV2GdBeH4Hk9\"\n",
        "destination = \"video.mp4\"\n",
        "\n",
        "import gdown\n",
        "gdown.download(f\"https://drive.google.com/uc?id={file_id}\", destination, quiet=False)\n",
        "\n",
        "# Check if the file is saved\n",
        "import os\n",
        "if os.path.exists(destination):\n",
        "    print(f\"File '{destination}' has been saved successfully!\")\n",
        "else:\n",
        "    print(\"File download failed.\")"
      ]
    },
    {
      "cell_type": "markdown",
      "source": [
        "Functions for formating the image"
      ],
      "metadata": {
        "id": "af4ydvReSrjT"
      }
    },
    {
      "cell_type": "code",
      "source": [
        "import cv2\n",
        "import numpy as np\n",
        "from google.colab.patches import cv2_imshow\n",
        "\n",
        "# Gaussian noise\n",
        "# def add_noise(image, kwards):\n",
        "#     noisy_image = image.copy()\n",
        "#     mean = kwargs.get(\"mean\", 0)\n",
        "#     std_dev = kwargs.get(\"std_dev\", 20)\n",
        "#     gaussian_noise = np.random.normal(mean, std_dev, image.shape).astype(np.int16)\n",
        "#     noisy_image = cv2.add(image.astype(np.int16), gaussian_noise)\n",
        "#     noisy_image = np.clip(noisy_image, 0, 100).astype(np.uint8)\n",
        "#     return noisy_image\n",
        "\n",
        "def compress_and_increase_contrast(image, resize_factor, clip_limit=2.0, tile_grid_size=(8, 8)):\n",
        "    \"\"\"\n",
        "    Resizes the image to the target size and enhances contrast.\n",
        "\n",
        "    Args:\n",
        "        image (numpy.ndarray): Input image in OpenCV format (BGR or grayscale).\n",
        "        target_size (tuple): Desired size for resizing (width, height).\n",
        "        clip_limit (float): Contrast limit for CLAHE (higher values mean more contrast).\n",
        "        tile_grid_size (tuple): Grid size for CLAHE (smaller grids mean more localized contrast).\n",
        "    \"\"\"\n",
        "    # Resize the image\n",
        "    image_size = image.shape\n",
        "    target_size = (resize_factor*image_size[1], resize_factor*image_size[0])\n",
        "    resized_image = cv2.resize(image, target_size, interpolation=cv2.INTER_AREA)\n",
        "\n",
        "    # Check if the image is grayscale or color\n",
        "    if len(resized_image.shape) == 2:  # Grayscale image\n",
        "        # Apply CLAHE (Contrast Limited Adaptive Histogram Equalization)\n",
        "        clahe = cv2.createCLAHE(clipLimit=clip_limit, tileGridSize=tile_grid_size)\n",
        "        enhanced_image = clahe.apply(resized_image)\n",
        "    else:  # Color image (BGR)\n",
        "        # Convert to LAB color space\n",
        "        lab = cv2.cvtColor(resized_image, cv2.COLOR_BGR2LAB)\n",
        "        l, a, b = cv2.split(lab)\n",
        "\n",
        "        # Apply CLAHE on the L (lightness) channel\n",
        "        clahe = cv2.createCLAHE(clipLimit=clip_limit, tileGridSize=tile_grid_size)\n",
        "        l_enhanced = clahe.apply(l)\n",
        "\n",
        "        # Merge the channels back and convert to BGR\n",
        "        lab_enhanced = cv2.merge((l_enhanced, a, b))\n",
        "        enhanced_image = cv2.cvtColor(lab_enhanced, cv2.COLOR_LAB2BGR)\n",
        "\n",
        "    return enhanced_image\n",
        "\n",
        "def reduce_tones(image, n_tones=4):\n",
        "    \"\"\"\n",
        "    Reduces the image to n tones by quantizing pixel values.\n",
        "\n",
        "    Args:\n",
        "        image (numpy.ndarray): Input image (grayscale or BGR).\n",
        "        n_tones (int): Number of tones to reduce the image to (e.g., 2, 4, 8).\n",
        "\n",
        "    Returns:\n",
        "        numpy.ndarray: Image with reduced tones.\n",
        "    \"\"\"\n",
        "    if n_tones < 2:\n",
        "        raise ValueError(\"Number of tones must be at least 2.\")\n",
        "\n",
        "    # Determine the quantization step size\n",
        "    step = 256 // n_tones\n",
        "\n",
        "    # Apply quantization\n",
        "    quantized_image = (image // step) * step\n",
        "\n",
        "    return quantized_image\n",
        "\n",
        "def increase_exposure(image, factor=1.5):\n",
        "    \"\"\"\n",
        "    Increases the exposure (brightness) of an image by a given factor.\n",
        "\n",
        "    Args:\n",
        "        image (numpy.ndarray): Input image (grayscale or BGR).\n",
        "        factor (float): Exposure multiplier (e.g., 1.5 for 50% brighter).\n",
        "\n",
        "    Returns:\n",
        "        numpy.ndarray: Image with increased exposure.\n",
        "    \"\"\"\n",
        "    # Ensure the factor is positive\n",
        "    if factor <= 0:\n",
        "        raise ValueError(\"Exposure factor must be greater than 0.\")\n",
        "\n",
        "    # Increase exposure by multiplying pixel values\n",
        "    # Clip values to ensure they remain within valid range [0, 255]\n",
        "    exposed_image = np.clip(image * factor, 0, 255).astype(np.uint8)\n",
        "\n",
        "    return exposed_image\n",
        "\n",
        "def cropping(frame, grnd):\n",
        "  return frame[grnd[2]:grnd[3], grnd[0]:grnd[1]]\n",
        "\n",
        "def rotating(frame, angle):\n",
        "  width, height = frame.shape[:2]\n",
        "  R = cv2.getRotationMatrix2D((width/2, height/2), angle, 1)\n",
        "  rotated_img = cv2.warpAffine(frame, R, (height, width), borderMode=cv2.BORDER_CONSTANT, borderValue=(240,240,240))\n",
        "  return rotated_img"
      ],
      "metadata": {
        "id": "yeViPmmQS0bF"
      },
      "execution_count": 3,
      "outputs": []
    },
    {
      "cell_type": "markdown",
      "source": [
        "Compressing the video (there was a huge video and my notebook давеча приказал долго жить, so I've been trying to comress it without downloading)"
      ],
      "metadata": {
        "id": "AMDyoI8zZe0S"
      }
    },
    {
      "cell_type": "code",
      "source": [
        "from moviepy.video.io.VideoFileClip import VideoFileClip\n",
        "\n",
        "from moviepy.video.io.VideoFileClip import VideoFileClip\n",
        "from moviepy.video.fx.all import resize  # Import the resize effect\n",
        "\n",
        "def compress_video(input_path, output_path, target_resolution=(1280, 720), bitrate=\"1M\"):\n",
        "    \"\"\"\n",
        "    Compress and resize a video using moviepy.\n",
        "\n",
        "    Args:\n",
        "        input_path (str): Path to the input video.\n",
        "        output_path (str): Path to save the compressed video.\n",
        "        target_resolution (tuple): Desired resolution (width, height).\n",
        "        bitrate (str): Target bitrate for the output file (e.g., \"1M\" for 1 Mbps).\n",
        "    \"\"\"\n",
        "    # Load the video\n",
        "    video = VideoFileClip(input_path)\n",
        "\n",
        "    # Apply resizing\n",
        "    video_resized = resize(video, height=target_resolution[1])  # Resize by height\n",
        "\n",
        "    # Write the output video with lower bitrate\n",
        "    video_resized.write_videofile(\n",
        "        output_path,\n",
        "        bitrate=bitrate,\n",
        "        codec=\"libx264\",  # H.264 codec for compression\n",
        "        audio_codec=\"aac\",  # AAC audio codec\n",
        "        threads=4  # Multithreaded processing for speed\n",
        "    )\n",
        "\n",
        "# Example usage\n",
        "input_video = \"video.mp4\"\n",
        "output_video = \"compressed_video.mp4\"\n",
        "compress_video(input_video, output_video, target_resolution=(640, 360), bitrate=\"1M\")"
      ],
      "metadata": {
        "id": "etlmCF-FaC3d",
        "colab": {
          "base_uri": "https://localhost:8080/",
          "height": 339
        },
        "outputId": "af0eac24-2325-4713-c328-23123650777f"
      },
      "execution_count": 88,
      "outputs": [
        {
          "output_type": "error",
          "ename": "OSError",
          "evalue": "MoviePy error: the file video.mp4 could not be found!\nPlease check that you entered the correct path.",
          "traceback": [
            "\u001b[0;31m---------------------------------------------------------------------------\u001b[0m",
            "\u001b[0;31mOSError\u001b[0m                                   Traceback (most recent call last)",
            "\u001b[0;32m<ipython-input-88-73492a1830df>\u001b[0m in \u001b[0;36m<cell line: 34>\u001b[0;34m()\u001b[0m\n\u001b[1;32m     32\u001b[0m \u001b[0minput_video\u001b[0m \u001b[0;34m=\u001b[0m \u001b[0;34m\"video.mp4\"\u001b[0m\u001b[0;34m\u001b[0m\u001b[0;34m\u001b[0m\u001b[0m\n\u001b[1;32m     33\u001b[0m \u001b[0moutput_video\u001b[0m \u001b[0;34m=\u001b[0m \u001b[0;34m\"compressed_video.mp4\"\u001b[0m\u001b[0;34m\u001b[0m\u001b[0;34m\u001b[0m\u001b[0m\n\u001b[0;32m---> 34\u001b[0;31m \u001b[0mcompress_video\u001b[0m\u001b[0;34m(\u001b[0m\u001b[0minput_video\u001b[0m\u001b[0;34m,\u001b[0m \u001b[0moutput_video\u001b[0m\u001b[0;34m,\u001b[0m \u001b[0mtarget_resolution\u001b[0m\u001b[0;34m=\u001b[0m\u001b[0;34m(\u001b[0m\u001b[0;36m640\u001b[0m\u001b[0;34m,\u001b[0m \u001b[0;36m360\u001b[0m\u001b[0;34m)\u001b[0m\u001b[0;34m,\u001b[0m \u001b[0mbitrate\u001b[0m\u001b[0;34m=\u001b[0m\u001b[0;34m\"1M\"\u001b[0m\u001b[0;34m)\u001b[0m\u001b[0;34m\u001b[0m\u001b[0;34m\u001b[0m\u001b[0m\n\u001b[0m",
            "\u001b[0;32m<ipython-input-88-73492a1830df>\u001b[0m in \u001b[0;36mcompress_video\u001b[0;34m(input_path, output_path, target_resolution, bitrate)\u001b[0m\n\u001b[1;32m     15\u001b[0m     \"\"\"\n\u001b[1;32m     16\u001b[0m     \u001b[0;31m# Load the video\u001b[0m\u001b[0;34m\u001b[0m\u001b[0;34m\u001b[0m\u001b[0m\n\u001b[0;32m---> 17\u001b[0;31m     \u001b[0mvideo\u001b[0m \u001b[0;34m=\u001b[0m \u001b[0mVideoFileClip\u001b[0m\u001b[0;34m(\u001b[0m\u001b[0minput_path\u001b[0m\u001b[0;34m)\u001b[0m\u001b[0;34m\u001b[0m\u001b[0;34m\u001b[0m\u001b[0m\n\u001b[0m\u001b[1;32m     18\u001b[0m \u001b[0;34m\u001b[0m\u001b[0m\n\u001b[1;32m     19\u001b[0m     \u001b[0;31m# Apply resizing\u001b[0m\u001b[0;34m\u001b[0m\u001b[0;34m\u001b[0m\u001b[0m\n",
            "\u001b[0;32m/usr/local/lib/python3.10/dist-packages/moviepy/video/io/VideoFileClip.py\u001b[0m in \u001b[0;36m__init__\u001b[0;34m(self, filename, has_mask, audio, audio_buffersize, target_resolution, resize_algorithm, audio_fps, audio_nbytes, verbose, fps_source)\u001b[0m\n\u001b[1;32m     86\u001b[0m         \u001b[0;31m# Make a reader\u001b[0m\u001b[0;34m\u001b[0m\u001b[0;34m\u001b[0m\u001b[0m\n\u001b[1;32m     87\u001b[0m         \u001b[0mpix_fmt\u001b[0m \u001b[0;34m=\u001b[0m \u001b[0;34m\"rgba\"\u001b[0m \u001b[0;32mif\u001b[0m \u001b[0mhas_mask\u001b[0m \u001b[0;32melse\u001b[0m \u001b[0;34m\"rgb24\"\u001b[0m\u001b[0;34m\u001b[0m\u001b[0;34m\u001b[0m\u001b[0m\n\u001b[0;32m---> 88\u001b[0;31m         self.reader = FFMPEG_VideoReader(filename, pix_fmt=pix_fmt,\n\u001b[0m\u001b[1;32m     89\u001b[0m                                          \u001b[0mtarget_resolution\u001b[0m\u001b[0;34m=\u001b[0m\u001b[0mtarget_resolution\u001b[0m\u001b[0;34m,\u001b[0m\u001b[0;34m\u001b[0m\u001b[0;34m\u001b[0m\u001b[0m\n\u001b[1;32m     90\u001b[0m                                          \u001b[0mresize_algo\u001b[0m\u001b[0;34m=\u001b[0m\u001b[0mresize_algorithm\u001b[0m\u001b[0;34m,\u001b[0m\u001b[0;34m\u001b[0m\u001b[0;34m\u001b[0m\u001b[0m\n",
            "\u001b[0;32m/usr/local/lib/python3.10/dist-packages/moviepy/video/io/ffmpeg_reader.py\u001b[0m in \u001b[0;36m__init__\u001b[0;34m(self, filename, print_infos, bufsize, pix_fmt, check_duration, target_resolution, resize_algo, fps_source)\u001b[0m\n\u001b[1;32m     33\u001b[0m         \u001b[0mself\u001b[0m\u001b[0;34m.\u001b[0m\u001b[0mfilename\u001b[0m \u001b[0;34m=\u001b[0m \u001b[0mfilename\u001b[0m\u001b[0;34m\u001b[0m\u001b[0;34m\u001b[0m\u001b[0m\n\u001b[1;32m     34\u001b[0m         \u001b[0mself\u001b[0m\u001b[0;34m.\u001b[0m\u001b[0mproc\u001b[0m \u001b[0;34m=\u001b[0m \u001b[0;32mNone\u001b[0m\u001b[0;34m\u001b[0m\u001b[0;34m\u001b[0m\u001b[0m\n\u001b[0;32m---> 35\u001b[0;31m         infos = ffmpeg_parse_infos(filename, print_infos, check_duration,\n\u001b[0m\u001b[1;32m     36\u001b[0m                                    fps_source)\n\u001b[1;32m     37\u001b[0m         \u001b[0mself\u001b[0m\u001b[0;34m.\u001b[0m\u001b[0mfps\u001b[0m \u001b[0;34m=\u001b[0m \u001b[0minfos\u001b[0m\u001b[0;34m[\u001b[0m\u001b[0;34m'video_fps'\u001b[0m\u001b[0;34m]\u001b[0m\u001b[0;34m\u001b[0m\u001b[0;34m\u001b[0m\u001b[0m\n",
            "\u001b[0;32m/usr/local/lib/python3.10/dist-packages/moviepy/video/io/ffmpeg_reader.py\u001b[0m in \u001b[0;36mffmpeg_parse_infos\u001b[0;34m(filename, print_infos, check_duration, fps_source)\u001b[0m\n\u001b[1;32m    268\u001b[0m     \u001b[0mlines\u001b[0m \u001b[0;34m=\u001b[0m \u001b[0minfos\u001b[0m\u001b[0;34m.\u001b[0m\u001b[0msplitlines\u001b[0m\u001b[0;34m(\u001b[0m\u001b[0;34m)\u001b[0m\u001b[0;34m\u001b[0m\u001b[0;34m\u001b[0m\u001b[0m\n\u001b[1;32m    269\u001b[0m     \u001b[0;32mif\u001b[0m \u001b[0;34m\"No such file or directory\"\u001b[0m \u001b[0;32min\u001b[0m \u001b[0mlines\u001b[0m\u001b[0;34m[\u001b[0m\u001b[0;34m-\u001b[0m\u001b[0;36m1\u001b[0m\u001b[0;34m]\u001b[0m\u001b[0;34m:\u001b[0m\u001b[0;34m\u001b[0m\u001b[0;34m\u001b[0m\u001b[0m\n\u001b[0;32m--> 270\u001b[0;31m         raise IOError((\"MoviePy error: the file %s could not be found!\\n\"\n\u001b[0m\u001b[1;32m    271\u001b[0m                       \u001b[0;34m\"Please check that you entered the correct \"\u001b[0m\u001b[0;34m\u001b[0m\u001b[0;34m\u001b[0m\u001b[0m\n\u001b[1;32m    272\u001b[0m                       \"path.\")%filename)\n",
            "\u001b[0;31mOSError\u001b[0m: MoviePy error: the file video.mp4 could not be found!\nPlease check that you entered the correct path."
          ]
        }
      ]
    },
    {
      "cell_type": "markdown",
      "metadata": {
        "id": "E_kWJA-NfoEx"
      },
      "source": [
        "Reading video"
      ]
    },
    {
      "cell_type": "code",
      "execution_count": 16,
      "metadata": {
        "colab": {
          "base_uri": "https://localhost:8080/",
          "height": 121
        },
        "id": "PEmJ8rgoK5h-",
        "outputId": "635b9c67-4660-4631-f203-d606cb963144"
      },
      "outputs": [
        {
          "output_type": "display_data",
          "data": {
            "text/plain": [
              "<PIL.Image.Image image mode=L size=336x104>"
            ],
            "image/png": "[encoded data removed]",
            "image/jpeg": "[encoded data removed]"
          },
          "metadata": {}
        }
      ],
      "source": [
        "# a complex filter for each frame\n",
        "def filter(frame):\n",
        "  frame = cv2.cvtColor(frame, cv2.COLOR_BGR2GRAY)\n",
        "  # frame = compress_and_increase_contrast(frame, 1, 10.0, (20, 20))\n",
        "  frame = increase_exposure(frame, 1.9)\n",
        "  frame = reduce_tones(frame, 100)\n",
        "\n",
        "  # frame = cropping(frame, (300, 650, 310, 410))\n",
        "\n",
        "  return frame\n",
        "\n",
        "def video_read(video_path):\n",
        "  cap = cv2.VideoCapture(video_path)\n",
        "  if not cap.isOpened():\n",
        "        print(\"Error: Could not open video.\")\n",
        "        return None\n",
        "  return cap\n",
        "\n",
        "video = video_read('/content/drive/MyDrive/lab/last_meas_pressure.mp4')\n",
        "\n",
        "fps = int(video.get(cv2.CAP_PROP_FPS))\n",
        "\n",
        "success, frame = video.read()\n",
        "frame = filter(frame)\n",
        "frames = [frame]\n",
        "\n",
        "i = 2\n",
        "while success:\n",
        "  success, frame  = video.read()\n",
        "  if i%10 == 0:\n",
        "    # frame = cv2.GaussianBlur(frame, (9, 9), 0)\n",
        "    # frame = cv2.cvtColor(frame, cv2.COLOR_BGR2GRAY)\n",
        "    frame = filter(frame)\n",
        "    frames.append(frame)\n",
        "  i+=1\n",
        "video.release()\n",
        "\n",
        "#making digits black\n",
        "img_to_neg = lambda x: 255 - x\n",
        "frames = list(map(img_to_neg, frames))\n",
        "\n",
        "# Showing a test frame\n",
        "cv2_imshow(frames[-1])"
      ]
    },
    {
      "cell_type": "code",
      "source": [
        "cv2_imshow(frames[97])"
      ],
      "metadata": {
        "colab": {
          "base_uri": "https://localhost:8080/",
          "height": 121
        },
        "id": "S3MPwacqf8b0",
        "outputId": "d56d033b-e858-4ca8-cb29-398edac77701"
      },
      "execution_count": 17,
      "outputs": [
        {
          "output_type": "display_data",
          "data": {
            "text/plain": [
              "<PIL.Image.Image image mode=L size=336x104>"
            ],
            "image/png": "[encoded data removed]",
            "image/jpeg": "[encoded data removed]"
          },
          "metadata": {}
        }
      ]
    },
    {
      "cell_type": "markdown",
      "source": [
        "## Preparing the data for a model"
      ],
      "metadata": {
        "id": "tCAcnQ50C85d"
      }
    },
    {
      "cell_type": "markdown",
      "metadata": {
        "id": "_C0hRiwia8Pm"
      },
      "source": [
        "There're frames of three types: '10 Pa', '1,0 Pa' and '1,0*10^-1 Pa'. So I cut the frames by the respecting groups"
      ]
    },
    {
      "cell_type": "code",
      "execution_count": 18,
      "metadata": {
        "colab": {
          "base_uri": "https://localhost:8080/",
          "height": 430
        },
        "id": "pBuJkvrSYwv6",
        "outputId": "9461f184-5924-4389-c7d3-cfebc514d189"
      },
      "outputs": [
        {
          "output_type": "display_data",
          "data": {
            "text/plain": [
              "<Figure size 640x480 with 1 Axes>"
            ],
            "image/png": "[encoded data removed]"
          },
          "metadata": {}
        }
      ],
      "source": [
        "# the mean intensity. Sometimes it helps to find the boundaries\n",
        "\n",
        "intensity = list(map(lambda x: x.mean(), frames))\n",
        "\n",
        "import matplotlib.pyplot as plt\n",
        "plt.plot(intensity)\n",
        "plt.show()"
      ]
    },
    {
      "cell_type": "markdown",
      "source": [
        "Here I перебираю the frames, looking for the boundaries"
      ],
      "metadata": {
        "id": "-lV2C7AEEl3p"
      }
    },
    {
      "cell_type": "code",
      "execution_count": 39,
      "metadata": {
        "colab": {
          "base_uri": "https://localhost:8080/",
          "height": 121
        },
        "id": "ttLjuZ3KZsBr",
        "outputId": "c39c5b3a-7502-4ead-8988-a1bc0a077d35"
      },
      "outputs": [
        {
          "output_type": "display_data",
          "data": {
            "text/plain": [
              "<PIL.Image.Image image mode=L size=336x104>"
            ],
            "image/png": "[encoded data removed]",
            "image/jpeg": "[encoded data removed]"
          },
          "metadata": {}
        }
      ],
      "source": [
        "n_start = 0\n",
        "n_bound_1 = 0\n",
        "n_bound_2 = 102\n",
        "cv2_imshow(frames[101]) #after the 513st frame, the exp part appears"
      ]
    },
    {
      "cell_type": "markdown",
      "metadata": {
        "id": "5pKL2b3WbTYz"
      },
      "source": [
        "Cutting"
      ]
    },
    {
      "cell_type": "code",
      "execution_count": 40,
      "metadata": {
        "id": "03iHePjUbSjq"
      },
      "outputs": [],
      "source": [
        "part_1 = frames[n_start:n_bound_1]\n",
        "part_2 = frames[n_bound_1:n_bound_2]\n",
        "part_3 = frames[n_bound_2:]"
      ]
    },
    {
      "cell_type": "markdown",
      "source": [
        "Cropping the digits"
      ],
      "metadata": {
        "id": "QM83dZmGE55n"
      }
    },
    {
      "cell_type": "markdown",
      "metadata": {
        "id": "mnjlaKVgeF8Z"
      },
      "source": [
        "part_1"
      ]
    },
    {
      "cell_type": "code",
      "execution_count": 42,
      "metadata": {
        "id": "mKF49d-ndtGH"
      },
      "outputs": [],
      "source": [
        "digit_11 = (60, 110, 0, 100) #x_min, x_max, y_min, y_max\n",
        "digit_12 = (140, 190, 0, 100) #x_min, x_max, y_min, y_max\n",
        "\n",
        "# indicator_4 = cropping(part_1[2], digit_11)\n",
        "# indicator_4 = rotating(indicator_4, 1)\n",
        "\n",
        "# indicator_1 = cropping(part_1[2], digit_12)\n",
        "# indicator_1 = rotating(indicator_1, 1)\n",
        "\n",
        "# cv2_imshow(indicator_4)\n",
        "# cv2_imshow(indicator_1)"
      ]
    },
    {
      "cell_type": "markdown",
      "source": [
        "part_2"
      ],
      "metadata": {
        "id": "7W4hHxiwJ1y3"
      }
    },
    {
      "cell_type": "code",
      "source": [
        "digit_21 = (60, 110, 0, 100) #x_min, x_max, y_min, y_max\n",
        "digit_22 = (140, 190, 0, 100) #x_min, x_max, y_min, y_max\n",
        "\n",
        "indicator_4 = cropping(part_2[0], digit_21)\n",
        "indicator_4 = rotating(indicator_4, 1)\n",
        "\n",
        "indicator_1 = cropping(part_2[2], digit_22)\n",
        "indicator_1 = rotating(indicator_1, 1)\n",
        "\n",
        "cv2_imshow(indicator_4)\n",
        "cv2_imshow(indicator_1)"
      ],
      "metadata": {
        "colab": {
          "base_uri": "https://localhost:8080/",
          "height": 217
        },
        "id": "fKyDt0qcJzQi",
        "outputId": "ed301d49-1db8-410b-a490-f1273bef41b8"
      },
      "execution_count": 43,
      "outputs": [
        {
          "output_type": "display_data",
          "data": {
            "text/plain": [
              "<PIL.Image.Image image mode=L size=50x100>"
            ],
            "image/png": "[encoded data removed]",
            "image/jpeg": "[encoded data removed]"
          },
          "metadata": {}
        },
        {
          "output_type": "display_data",
          "data": {
            "text/plain": [
              "<PIL.Image.Image image mode=L size=50x100>"
            ],
            "image/png": "[encoded data removed]",
            "image/jpeg": "[encoded data removed]"
          },
          "metadata": {}
        }
      ]
    },
    {
      "cell_type": "markdown",
      "metadata": {
        "id": "xK0-TY-Ueey-"
      },
      "source": [
        "part_3"
      ]
    },
    {
      "cell_type": "code",
      "execution_count": 61,
      "metadata": {
        "id": "E6KumldxeiFZ",
        "colab": {
          "base_uri": "https://localhost:8080/",
          "height": 262
        },
        "outputId": "56d2d645-12cd-48b2-e588-a7a446bed4df"
      },
      "outputs": [
        {
          "output_type": "display_data",
          "data": {
            "text/plain": [
              "<PIL.Image.Image image mode=L size=50x100>"
            ],
            "image/png": "[encoded data removed]",
            "image/jpeg": "[encoded data removed]"
          },
          "metadata": {}
        },
        {
          "output_type": "display_data",
          "data": {
            "text/plain": [
              "<PIL.Image.Image image mode=L size=50x100>"
            ],
            "image/png": "[encoded data removed]",
            "image/jpeg": "[encoded data removed]"
          },
          "metadata": {}
        },
        {
          "output_type": "display_data",
          "data": {
            "text/plain": [
              "<PIL.Image.Image image mode=L size=22x45>"
            ],
            "image/png": "[encoded data removed]",
            "image/jpeg": "[encoded data removed]"
          },
          "metadata": {}
        }
      ],
      "source": [
        "digit_31 = (40, 90, 0, 100) #x_min, x_max, y_min, y_max\n",
        "digit_32 = (120, 170, 0, 100) #x_min, x_max, y_min, y_max\n",
        "digit_33 = (268, 290, 0, 45) #x_min, x_max, y_min, y_max\n",
        "\n",
        "indicator_9 = cropping(part_3[0], digit_31)\n",
        "indicator_8 = cropping(part_3[0], digit_32)\n",
        "indicator_11 = cropping(part_3[-1], digit_33)\n",
        "\n",
        "cv2_imshow(indicator_9)\n",
        "cv2_imshow(indicator_8)\n",
        "cv2_imshow(indicator_11)"
      ]
    },
    {
      "cell_type": "markdown",
      "metadata": {
        "id": "jFpkiF7vb0Q-"
      },
      "source": [
        "# **The model**"
      ]
    },
    {
      "cell_type": "markdown",
      "source": [
        "## Grabbing a dataset from a video. It shows a random digit from some real data and then I tell him which exactly it was"
      ],
      "metadata": {
        "id": "wn_mz2dlFijY"
      }
    },
    {
      "cell_type": "code",
      "execution_count": 63,
      "metadata": {
        "id": "dkUTf2chmhEx",
        "colab": {
          "base_uri": "https://localhost:8080/",
          "height": 747,
          "referenced_widgets": [
            "27a11e49218943ba90773e53e3471e00",
            "f333d348e66e46d98ae7cb8770d86880",
            "c341304dde9141e2beea46e15c427b02",
            "dfa75dbc0026469f8a42d4e2dbdad8db",
            "7eea66d01f3e4dbda650492dd35c6a6f"
          ]
        },
        "outputId": "3c5d70a0-2532-4325-a7ff-41a60e0e5f2e"
      },
      "outputs": [
        {
          "output_type": "display_data",
          "data": {
            "text/plain": [
              "Text(value='', description='Digit:', placeholder=\"Enter recognized digit or 'q' to quit\")"
            ],
            "application/vnd.jupyter.widget-view+json": {
              "version_major": 2,
              "version_minor": 0,
              "model_id": "27a11e49218943ba90773e53e3471e00"
            }
          },
          "metadata": {}
        },
        {
          "output_type": "display_data",
          "data": {
            "text/plain": [
              "Output()"
            ],
            "application/vnd.jupyter.widget-view+json": {
              "version_major": 2,
              "version_minor": 0,
              "model_id": "dfa75dbc0026469f8a42d4e2dbdad8db"
            }
          },
          "metadata": {}
        },
        {
          "output_type": "stream",
          "name": "stdout",
          "text": [
            "Quitting early. Saving results...\n",
            "Results saved to labeled_digits_table.csv\n"
          ]
        },
        {
          "output_type": "display_data",
          "data": {
            "text/plain": [
              "  Digit                                       Image_Base64\n",
              "0     2  iVBORw0KGgoAAAANSUhEUgAAADIAAABkCAAAAADhgzyHAA...\n",
              "1     9  iVBORw0KGgoAAAANSUhEUgAAADIAAABkCAAAAADhgzyHAA...\n",
              "2     0  iVBORw0KGgoAAAANSUhEUgAAADIAAABkCAAAAADhgzyHAA...\n",
              "3     3  iVBORw0KGgoAAAANSUhEUgAAADIAAABkCAAAAADhgzyHAA...\n",
              "4     9  iVBORw0KGgoAAAANSUhEUgAAADIAAABkCAAAAADhgzyHAA...\n",
              "5     4  iVBORw0KGgoAAAANSUhEUgAAADIAAABkCAAAAADhgzyHAA...\n",
              "6     7  iVBORw0KGgoAAAANSUhEUgAAADIAAABkCAAAAADhgzyHAA..."
            ],
            "text/html": [
              "\n",
              "  <div id=\"df-686a6aaf-12da-49e8-9a34-ed5494f0b05c\" class=\"colab-df-container\">\n",
              "    <div>\n",
              "<style scoped>\n",
              "    .dataframe tbody tr th:only-of-type {\n",
              "        vertical-align: middle;\n",
              "    }\n",
              "\n",
              "    .dataframe tbody tr th {\n",
              "        vertical-align: top;\n",
              "    }\n",
              "\n",
              "    .dataframe thead th {\n",
              "        text-align: right;\n",
              "    }\n",
              "</style>\n",
              "<table border=\"1\" class=\"dataframe\">\n",
              "  <thead>\n",
              "    <tr style=\"text-align: right;\">\n",
              "      <th></th>\n",
              "      <th>Digit</th>\n",
              "      <th>Image_Base64</th>\n",
              "    </tr>\n",
              "  </thead>\n",
              "  <tbody>\n",
              "    <tr>\n",
              "      <th>0</th>\n",
              "      <td>2</td>\n",
              "      <td>iVBORw0KGgoAAAANSUhEUgAAADIAAABkCAAAAADhgzyHAA...</td>\n",
              "    </tr>\n",
              "    <tr>\n",
              "      <th>1</th>\n",
              "      <td>9</td>\n",
              "      <td>iVBORw0KGgoAAAANSUhEUgAAADIAAABkCAAAAADhgzyHAA...</td>\n",
              "    </tr>\n",
              "    <tr>\n",
              "      <th>2</th>\n",
              "      <td>0</td>\n",
              "      <td>iVBORw0KGgoAAAANSUhEUgAAADIAAABkCAAAAADhgzyHAA...</td>\n",
              "    </tr>\n",
              "    <tr>\n",
              "      <th>3</th>\n",
              "      <td>3</td>\n",
              "      <td>iVBORw0KGgoAAAANSUhEUgAAADIAAABkCAAAAADhgzyHAA...</td>\n",
              "    </tr>\n",
              "    <tr>\n",
              "      <th>4</th>\n",
              "      <td>9</td>\n",
              "      <td>iVBORw0KGgoAAAANSUhEUgAAADIAAABkCAAAAADhgzyHAA...</td>\n",
              "    </tr>\n",
              "    <tr>\n",
              "      <th>5</th>\n",
              "      <td>4</td>\n",
              "      <td>iVBORw0KGgoAAAANSUhEUgAAADIAAABkCAAAAADhgzyHAA...</td>\n",
              "    </tr>\n",
              "    <tr>\n",
              "      <th>6</th>\n",
              "      <td>7</td>\n",
              "      <td>iVBORw0KGgoAAAANSUhEUgAAADIAAABkCAAAAADhgzyHAA...</td>\n",
              "    </tr>\n",
              "  </tbody>\n",
              "</table>\n",
              "</div>\n",
              "    <div class=\"colab-df-buttons\">\n",
              "\n",
              "  <div class=\"colab-df-container\">\n",
              "    <button class=\"colab-df-convert\" onclick=\"convertToInteractive('df-686a6aaf-12da-49e8-9a34-ed5494f0b05c')\"\n",
              "            title=\"Convert this dataframe to an interactive table.\"\n",
              "            style=\"display:none;\">\n",
              "\n",
              "  <svg xmlns=\"http://www.w3.org/2000/svg\" height=\"24px\" viewBox=\"0 -960 960 960\">\n",
              "    <path d=\"M120-120v-720h720v720H120Zm60-500h600v-160H180v160Zm220 220h160v-160H400v160Zm0 220h160v-160H400v160ZM180-400h160v-160H180v160Zm440 0h160v-160H620v160ZM180-180h160v-160H180v160Zm440 0h160v-160H620v160Z\"/>\n",
              "  </svg>\n",
              "    </button>\n",
              "\n",
              "  <style>\n",
              "    .colab-df-container {\n",
              "      display:flex;\n",
              "      gap: 12px;\n",
              "    }\n",
              "\n",
              "    .colab-df-convert {\n",
              "      background-color: #E8F0FE;\n",
              "      border: none;\n",
              "      border-radius: 50%;\n",
              "      cursor: pointer;\n",
              "      display: none;\n",
              "      fill: #1967D2;\n",
              "      height: 32px;\n",
              "      padding: 0 0 0 0;\n",
              "      width: 32px;\n",
              "    }\n",
              "\n",
              "    .colab-df-convert:hover {\n",
              "      background-color: #E2EBFA;\n",
              "      box-shadow: 0px 1px 2px rgba(60, 64, 67, 0.3), 0px 1px 3px 1px rgba(60, 64, 67, 0.15);\n",
              "      fill: #174EA6;\n",
              "    }\n",
              "\n",
              "    .colab-df-buttons div {\n",
              "      margin-bottom: 4px;\n",
              "    }\n",
              "\n",
              "    [theme=dark] .colab-df-convert {\n",
              "      background-color: #3B4455;\n",
              "      fill: #D2E3FC;\n",
              "    }\n",
              "\n",
              "    [theme=dark] .colab-df-convert:hover {\n",
              "      background-color: #434B5C;\n",
              "      box-shadow: 0px 1px 3px 1px rgba(0, 0, 0, 0.15);\n",
              "      filter: drop-shadow(0px 1px 2px rgba(0, 0, 0, 0.3));\n",
              "      fill: #FFFFFF;\n",
              "    }\n",
              "  </style>\n",
              "\n",
              "    <script>\n",
              "      const buttonEl =\n",
              "        document.querySelector('#df-686a6aaf-12da-49e8-9a34-ed5494f0b05c button.colab-df-convert');\n",
              "      buttonEl.style.display =\n",
              "        google.colab.kernel.accessAllowed ? 'block' : 'none';\n",
              "\n",
              "      async function convertToInteractive(key) {\n",
              "        const element = document.querySelector('#df-686a6aaf-12da-49e8-9a34-ed5494f0b05c');\n",
              "        const dataTable =\n",
              "          await google.colab.kernel.invokeFunction('convertToInteractive',\n",
              "                                                    [key], {});\n",
              "        if (!dataTable) return;\n",
              "\n",
              "        const docLinkHtml = 'Like what you see? Visit the ' +\n",
              "          '<a target=\"_blank\" href=https://colab.research.google.com/notebooks/data_table.ipynb>data table notebook</a>'\n",
              "          + ' to learn more about interactive tables.';\n",
              "        element.innerHTML = '';\n",
              "        dataTable['output_type'] = 'display_data';\n",
              "        await google.colab.output.renderOutput(dataTable, element);\n",
              "        const docLink = document.createElement('div');\n",
              "        docLink.innerHTML = docLinkHtml;\n",
              "        element.appendChild(docLink);\n",
              "      }\n",
              "    </script>\n",
              "  </div>\n",
              "\n",
              "\n",
              "<div id=\"df-4ffcc1c2-a95b-4b4e-ab8c-af9fc8218d3b\">\n",
              "  <button class=\"colab-df-quickchart\" onclick=\"quickchart('df-4ffcc1c2-a95b-4b4e-ab8c-af9fc8218d3b')\"\n",
              "            title=\"Suggest charts\"\n",
              "            style=\"display:none;\">\n",
              "\n",
              "<svg xmlns=\"http://www.w3.org/2000/svg\" height=\"24px\"viewBox=\"0 0 24 24\"\n",
              "     width=\"24px\">\n",
              "    <g>\n",
              "        <path d=\"M19 3H5c-1.1 0-2 .9-2 2v14c0 1.1.9 2 2 2h14c1.1 0 2-.9 2-2V5c0-1.1-.9-2-2-2zM9 17H7v-7h2v7zm4 0h-2V7h2v10zm4 0h-2v-4h2v4z\"/>\n",
              "    </g>\n",
              "</svg>\n",
              "  </button>\n",
              "\n",
              "<style>\n",
              "  .colab-df-quickchart {\n",
              "      --bg-color: #E8F0FE;\n",
              "      --fill-color: #1967D2;\n",
              "      --hover-bg-color: #E2EBFA;\n",
              "      --hover-fill-color: #174EA6;\n",
              "      --disabled-fill-color: #AAA;\n",
              "      --disabled-bg-color: #DDD;\n",
              "  }\n",
              "\n",
              "  [theme=dark] .colab-df-quickchart {\n",
              "      --bg-color: #3B4455;\n",
              "      --fill-color: #D2E3FC;\n",
              "      --hover-bg-color: #434B5C;\n",
              "      --hover-fill-color: #FFFFFF;\n",
              "      --disabled-bg-color: #3B4455;\n",
              "      --disabled-fill-color: #666;\n",
              "  }\n",
              "\n",
              "  .colab-df-quickchart {\n",
              "    background-color: var(--bg-color);\n",
              "    border: none;\n",
              "    border-radius: 50%;\n",
              "    cursor: pointer;\n",
              "    display: none;\n",
              "    fill: var(--fill-color);\n",
              "    height: 32px;\n",
              "    padding: 0;\n",
              "    width: 32px;\n",
              "  }\n",
              "\n",
              "  .colab-df-quickchart:hover {\n",
              "    background-color: var(--hover-bg-color);\n",
              "    box-shadow: 0 1px 2px rgba(60, 64, 67, 0.3), 0 1px 3px 1px rgba(60, 64, 67, 0.15);\n",
              "    fill: var(--button-hover-fill-color);\n",
              "  }\n",
              "\n",
              "  .colab-df-quickchart-complete:disabled,\n",
              "  .colab-df-quickchart-complete:disabled:hover {\n",
              "    background-color: var(--disabled-bg-color);\n",
              "    fill: var(--disabled-fill-color);\n",
              "    box-shadow: none;\n",
              "  }\n",
              "\n",
              "  .colab-df-spinner {\n",
              "    border: 2px solid var(--fill-color);\n",
              "    border-color: transparent;\n",
              "    border-bottom-color: var(--fill-color);\n",
              "    animation:\n",
              "      spin 1s steps(1) infinite;\n",
              "  }\n",
              "\n",
              "  @keyframes spin {\n",
              "    0% {\n",
              "      border-color: transparent;\n",
              "      border-bottom-color: var(--fill-color);\n",
              "      border-left-color: var(--fill-color);\n",
              "    }\n",
              "    20% {\n",
              "      border-color: transparent;\n",
              "      border-left-color: var(--fill-color);\n",
              "      border-top-color: var(--fill-color);\n",
              "    }\n",
              "    30% {\n",
              "      border-color: transparent;\n",
              "      border-left-color: var(--fill-color);\n",
              "      border-top-color: var(--fill-color);\n",
              "      border-right-color: var(--fill-color);\n",
              "    }\n",
              "    40% {\n",
              "      border-color: transparent;\n",
              "      border-right-color: var(--fill-color);\n",
              "      border-top-color: var(--fill-color);\n",
              "    }\n",
              "    60% {\n",
              "      border-color: transparent;\n",
              "      border-right-color: var(--fill-color);\n",
              "    }\n",
              "    80% {\n",
              "      border-color: transparent;\n",
              "      border-right-color: var(--fill-color);\n",
              "      border-bottom-color: var(--fill-color);\n",
              "    }\n",
              "    90% {\n",
              "      border-color: transparent;\n",
              "      border-bottom-color: var(--fill-color);\n",
              "    }\n",
              "  }\n",
              "</style>\n",
              "\n",
              "  <script>\n",
              "    async function quickchart(key) {\n",
              "      const quickchartButtonEl =\n",
              "        document.querySelector('#' + key + ' button');\n",
              "      quickchartButtonEl.disabled = true;  // To prevent multiple clicks.\n",
              "      quickchartButtonEl.classList.add('colab-df-spinner');\n",
              "      try {\n",
              "        const charts = await google.colab.kernel.invokeFunction(\n",
              "            'suggestCharts', [key], {});\n",
              "      } catch (error) {\n",
              "        console.error('Error during call to suggestCharts:', error);\n",
              "      }\n",
              "      quickchartButtonEl.classList.remove('colab-df-spinner');\n",
              "      quickchartButtonEl.classList.add('colab-df-quickchart-complete');\n",
              "    }\n",
              "    (() => {\n",
              "      let quickchartButtonEl =\n",
              "        document.querySelector('#df-4ffcc1c2-a95b-4b4e-ab8c-af9fc8218d3b button');\n",
              "      quickchartButtonEl.style.display =\n",
              "        google.colab.kernel.accessAllowed ? 'block' : 'none';\n",
              "    })();\n",
              "  </script>\n",
              "</div>\n",
              "\n",
              "    </div>\n",
              "  </div>\n"
            ],
            "application/vnd.google.colaboratory.intrinsic+json": {
              "type": "dataframe",
              "summary": "{\n  \"name\": \"    interactive_labeling(example_frames, quit_key=\\\"q\\\")\",\n  \"rows\": 7,\n  \"fields\": [\n    {\n      \"column\": \"Digit\",\n      \"properties\": {\n        \"dtype\": \"string\",\n        \"num_unique_values\": 6,\n        \"samples\": [\n          \"2\",\n          \"9\",\n          \"7\"\n        ],\n        \"semantic_type\": \"\",\n        \"description\": \"\"\n      }\n    },\n    {\n      \"column\": \"Image_Base64\",\n      \"properties\": {\n        \"dtype\": \"string\",\n        \"num_unique_values\": 7,\n        \"samples\": [\n          \"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\",\n          \"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\",\n          \"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\"\n        ],\n        \"semantic_type\": \"\",\n        \"description\": \"\"\n      }\n    }\n  ]\n}"
            }
          },
          "metadata": {}
        }
      ],
      "source": [
        "import cv2\n",
        "import pandas as pd\n",
        "import base64\n",
        "import numpy as np\n",
        "import matplotlib.pyplot as plt\n",
        "from IPython.display import display, clear_output\n",
        "import ipywidgets as widgets\n",
        "from random import sample\n",
        "\n",
        "# Function to encode OpenCV image as Base64\n",
        "def encode_image_to_base64(image):\n",
        "    _, buffer = cv2.imencode('.png', image)\n",
        "    return base64.b64encode(buffer).decode('utf-8')\n",
        "\n",
        "# Function to display a single image using Matplotlib\n",
        "def show_image_colab(image, current_idx, total_frames):\n",
        "    plt.imshow(image, cmap='gray')\n",
        "    plt.title(f\"Frame {current_idx + 1}/{total_frames}\")\n",
        "    plt.axis('off')\n",
        "    plt.show()\n",
        "\n",
        "# Interactive labeling function with Enter key support\n",
        "def interactive_labeling(frames, quit_key=\"q\"):\n",
        "    \"\"\"\n",
        "    Display frames one by one and allow the user to enter the recognized digit\n",
        "    using a text box widget. Confirm input using the Enter key.\n",
        "    \"\"\"\n",
        "    results = []\n",
        "    frame_idx = 0\n",
        "    total_frames = len(frames)\n",
        "\n",
        "    # Text box for user input\n",
        "    input_box = widgets.Text(\n",
        "        placeholder=f\"Enter recognized digit or '{quit_key}' to quit\",\n",
        "        description=\"Digit:\",\n",
        "        disabled=False\n",
        "    )\n",
        "\n",
        "    # Output widget to display frames\n",
        "    output = widgets.Output()\n",
        "\n",
        "    def display_frame():\n",
        "        with output:\n",
        "            clear_output(wait=True)\n",
        "            show_image_colab(frames[frame_idx], frame_idx, total_frames)\n",
        "\n",
        "    def process_input(value):\n",
        "        nonlocal frame_idx\n",
        "\n",
        "        recognized_digit = value.strip()\n",
        "        if recognized_digit == quit_key:\n",
        "            print(\"Quitting early. Saving results...\")\n",
        "            save_results()\n",
        "            return\n",
        "\n",
        "        # Validate input (allow digits, floats, and the quit key)\n",
        "        if not recognized_digit.isdigit() and not (',' in recognized_digit or '.' in recognized_digit):\n",
        "            print(\"Invalid input! Please enter a valid number.\")\n",
        "            return\n",
        "\n",
        "        # Encode image and store result\n",
        "        encoded_image = encode_image_to_base64(frames[frame_idx])\n",
        "        results.append((recognized_digit, encoded_image))\n",
        "\n",
        "        # Move to the next frame\n",
        "        frame_idx += 1\n",
        "        if frame_idx < total_frames:\n",
        "            input_box.value = \"\"  # Clear the input box\n",
        "            display_frame()\n",
        "        else:\n",
        "            print(\"All frames processed!\")\n",
        "            input_box.disabled = True\n",
        "            save_results()\n",
        "\n",
        "    def save_results():\n",
        "        # Save results to a CSV file\n",
        "        df = pd.DataFrame(results, columns=[\"Digit\", \"Image_Base64\"])\n",
        "        output_file = \"labeled_digits_table.csv\"\n",
        "        df.to_csv(output_file, index=False)\n",
        "        print(f\"Results saved to {output_file}\")\n",
        "        display(df)\n",
        "\n",
        "    # Event listener: Process input when Enter key is pressed\n",
        "    def on_enter(change):\n",
        "        if change[\"name\"] == \"value\" and change[\"new\"]:  # Detect change\n",
        "            process_input(change[\"new\"])\n",
        "\n",
        "    # Attach the event listener\n",
        "    input_box.observe(on_enter)\n",
        "\n",
        "    # Display the first frame and the text input\n",
        "    display_frame()\n",
        "    display(input_box, output)\n",
        "\n",
        "def example_frames(part, scaling, angle):\n",
        "  scale_x = lambda x: cropping(x, scaling)\n",
        "  rotate_x = lambda x: rotating(x, angle)\n",
        "  return list(map(rotate_x, map(scale_x, part)))\n",
        "\n",
        "# Example Usage\n",
        "if __name__ == \"__main__\":\n",
        "    # Generate sample frames (replace with your own list of OpenCV images)\n",
        "    # samples_1 = sample(part_1, len(part_1))\n",
        "    samples_2 = sample(part_3, len(part_3))\n",
        "    example_frames = example_frames(samples_2, digit_32, 1)\n",
        "    # example_frames = example_frames(samples_1, digit_12, 1) + example_frames(samples_2, digit_22, 1)\n",
        "    # Run the interactive labeling process\n",
        "    interactive_labeling(example_frames, quit_key=\"q\")\n"
      ]
    },
    {
      "cell_type": "markdown",
      "source": [
        "## Training and testing the model"
      ],
      "metadata": {
        "id": "wL0N951srWIi"
      }
    },
    {
      "cell_type": "markdown",
      "source": [
        "The model"
      ],
      "metadata": {
        "id": "4Xk_pJZ_rgxs"
      }
    },
    {
      "cell_type": "code",
      "execution_count": 64,
      "metadata": {
        "id": "Igd59Rj1lrXl"
      },
      "outputs": [],
      "source": [
        "import torch\n",
        "import torch.nn as nn\n",
        "import torch.optim as optim\n",
        "from torch.utils.data import Dataset, DataLoader\n",
        "import pandas as pd\n",
        "import numpy as np\n",
        "import cv2\n",
        "import base64\n",
        "from sklearn.model_selection import train_test_split\n",
        "from sklearn.preprocessing import LabelEncoder\n",
        "import matplotlib.pyplot as plt\n",
        "\n",
        "s = 28\n",
        "\n",
        "# Custom Dataset Class\n",
        "class DigitDataset(Dataset):\n",
        "    def __init__(self, csv_file):\n",
        "        self.data = pd.read_csv(csv_file)\n",
        "        self.images = []\n",
        "        self.labels = []\n",
        "\n",
        "        # Decode images and store them as NumPy arrays\n",
        "        for idx, row in self.data.iterrows():\n",
        "            img_base64 = row[\"Image_Base64\"]\n",
        "            img_data = base64.b64decode(img_base64)\n",
        "            img_np = np.frombuffer(img_data, dtype=np.uint8)\n",
        "            img = cv2.imdecode(img_np, cv2.IMREAD_GRAYSCALE)\n",
        "            img_resized = cv2.resize(img, (s, s))  # Resize to 28x28\n",
        "            self.images.append(img_resized.flatten())  # Flatten for logistic regression\n",
        "            self.labels.append(row[\"Digit\"])\n",
        "\n",
        "        # Convert images and labels to tensors\n",
        "        self.images = torch.tensor(self.images, dtype=torch.float32) / 255.0  # Normalize\n",
        "        self.labels = torch.tensor(LabelEncoder().fit_transform(self.labels), dtype=torch.long)\n",
        "\n",
        "    def __len__(self):\n",
        "        return len(self.labels)\n",
        "\n",
        "    def __getitem__(self, idx):\n",
        "        return self.images[idx], self.labels[idx]\n",
        "\n",
        "# Logistic Regression Model\n",
        "class LogisticRegressionModel(nn.Module):\n",
        "    def __init__(self, input_size, num_classes):\n",
        "        super(LogisticRegressionModel, self).__init__()\n",
        "        self.linear = nn.Linear(input_size, num_classes)  # Linear layer\n",
        "\n",
        "    def forward(self, x):\n",
        "        return torch.softmax(self.linear(x), dim=1)  # Use softmax to get probabilities\n",
        "\n",
        "# Function to train the model\n",
        "def train_model(model, dataloader, criterion, optimizer, epochs=10):\n",
        "    model.train()\n",
        "    for epoch in range(epochs):\n",
        "        total_loss = 0\n",
        "        for images, labels in dataloader:\n",
        "            optimizer.zero_grad()\n",
        "            outputs = model(images)\n",
        "            loss = criterion(outputs, labels)\n",
        "            loss.backward()\n",
        "            optimizer.step()\n",
        "            total_loss += loss.item()\n",
        "        print(f\"Epoch [{epoch+1}/{epochs}], Loss: {total_loss/len(dataloader):.4f}\")\n",
        "\n",
        "# Function to evaluate the model and display probabilities\n",
        "def evaluate_model(model, dataloader, class_names):\n",
        "    model.eval()\n",
        "    with torch.no_grad():\n",
        "        for images, labels in dataloader:\n",
        "            outputs = model(images)\n",
        "            probabilities = outputs.numpy()\n",
        "            predictions = np.argmax(probabilities, axis=1)\n",
        "            for i in range(len(images)):\n",
        "                plt.imshow(images[i].reshape(s, s), cmap=\"gray\")\n",
        "                plt.title(f\"Predicted: {class_names[predictions[i]]}, Probability: {max(probabilities[i]):.2f}\")\n",
        "                plt.axis('off')\n",
        "                plt.show()\n",
        "\n",
        "# Main Execution\n",
        "if __name__ == \"__main__\":\n",
        "    # Path to the labeled dataset CSV file\n",
        "    dataset_path = \"labeled_digits_table.csv\"  # Replace with your actual file path\n",
        "\n",
        "    # Load dataset\n",
        "    dataset = DigitDataset(dataset_path)\n",
        "    train_data, test_data = train_test_split(range(len(dataset)), test_size=0.2, random_state=42)\n",
        "    train_subset = torch.utils.data.Subset(dataset, train_data)\n",
        "    test_subset = torch.utils.data.Subset(dataset, test_data)\n",
        "\n",
        "    # Dataloaders\n",
        "    train_loader = DataLoader(train_subset, batch_size=1, shuffle=True)\n",
        "    test_loader = DataLoader(test_subset, batch_size=1, shuffle=False)\n",
        "\n",
        "    # Model Parameters\n",
        "    input_size = s * s  # Flattened image size\n",
        "    num_classes = len(set(dataset.labels.numpy()))  # Unique classes\n",
        "\n",
        "    # Initialize model, loss function, and optimizer\n",
        "    model = LogisticRegressionModel(input_size, num_classes)\n",
        "    criterion = nn.CrossEntropyLoss()\n",
        "    optimizer = optim.Adam(model.parameters(), lr=0.001)\n",
        "\n",
        "    # Train the model\n",
        "    print(\"Training the model...\")\n",
        "    train_model(model, train_loader, criterion, optimizer, epochs=20)\n",
        "\n",
        "    # # Evaluate the model\n",
        "    # print(\"\\nEvaluating the model...\")\n",
        "    # class_names = list(set(dataset.data[\"Digit\"]))  # Extract class names from the dataset\n",
        "    # evaluate_model(model, test_loader, class_names)\n",
        "\n",
        "    # Assuming your model is named 'model'\n",
        "    model_path = \"logistic_regression_model.pth\"  # Path where you want to save the model\n",
        "    torch.save(model.state_dict(), model_path)\n",
        "    print(f\"Model saved to {model_path}\")\n"
      ]
    },
    {
      "cell_type": "markdown",
      "source": [
        "Testing"
      ],
      "metadata": {
        "id": "nPf9zfQ_rlZV"
      }
    },
    {
      "cell_type": "code",
      "execution_count": 65,
      "metadata": {
        "colab": {
          "base_uri": "https://localhost:8080/"
        },
        "id": "41hPNfML4VyZ",
        "outputId": "f1c9a959-2367-4960-98f0-fcae8de5a762"
      },
      "outputs": [
        {
          "output_type": "stream",
          "name": "stderr",
          "text": [
            "<ipython-input-65-0c8080e76b5c>:10: FutureWarning: You are using `torch.load` with `weights_only=False` (the current default value), which uses the default pickle module implicitly. It is possible to construct malicious pickle data which will execute arbitrary code during unpickling (See https://github.com/pytorch/pytorch/blob/main/SECURITY.md#untrusted-models for more details). In a future release, the default value for `weights_only` will be flipped to `True`. This limits the functions that could be executed during unpickling. Arbitrary objects will no longer be allowed to be loaded via this mode unless they are explicitly allowlisted by the user via `torch.serialization.add_safe_globals`. We recommend you start setting `weights_only=True` for any use case where you don't have full control of the loaded file. Please open an issue on GitHub for any issues related to this experimental feature.\n",
            "  model.load_state_dict(torch.load(model_path))\n"
          ]
        },
        {
          "output_type": "stream",
          "name": "stdout",
          "text": [
            "Dataframe loaded successfully!\n",
            "Labels: [1 6 8 7 2]\n",
            "Images: (399, 200, 100)\n"
          ]
        }
      ],
      "source": [
        "import pandas as pd\n",
        "import cv2\n",
        "import numpy as np\n",
        "import base64\n",
        "from io import BytesIO\n",
        "\n",
        "# Importing the model\n",
        "model_path = \"logistic_regression_model.pth\"  # Path to the trained model\n",
        "model = LogisticRegressionModel(input_size=28 * 28, num_classes=10)\n",
        "model.load_state_dict(torch.load(model_path))\n",
        "\n",
        "\n",
        "# Function to decode Base64 and convert it to OpenCV image\n",
        "def decode_base64_image(base64_string):\n",
        "    # Decode the Base64 string to bytes\n",
        "    img_data = base64.b64decode(base64_string)\n",
        "\n",
        "    # Convert byte data to numpy array\n",
        "    np_arr = np.frombuffer(img_data, dtype=np.uint8)\n",
        "\n",
        "    # Decode the numpy array into an image\n",
        "    img = cv2.imdecode(np_arr, cv2.IMREAD_GRAYSCALE)  # Assuming grayscale images\n",
        "    return img\n",
        "\n",
        "# Load the CSV file into a pandas DataFrame\n",
        "df = pd.read_csv('labeled_digits_table.csv')\n",
        "df.columns = ['labels', 'images']\n",
        "\n",
        "# Convert the 'images' column (Base64 encoded) to actual image data\n",
        "df['images'] = df['images'].apply(decode_base64_image)\n",
        "\n",
        "# # Now, the DataFrame has 'digits' as labels and 'images' as image data\n",
        "labels = df['labels'].to_numpy()  # Convert 'digits' to NumPy array (labels)\n",
        "images = np.array(df['images'].to_list())  # Convert 'images' column to NumPy array\n",
        "\n",
        "# # Check the result\n",
        "print(\"Dataframe loaded successfully!\")\n",
        "print(f\"Labels: {labels[:5]}\")  # Display the first few labels\n",
        "print(f\"Images: {images.shape}\")  # Display the shape of the images array"
      ]
    },
    {
      "cell_type": "code",
      "execution_count": 66,
      "metadata": {
        "colab": {
          "base_uri": "https://localhost:8080/",
          "height": 106
        },
        "id": "7H2vBOb00bWZ",
        "outputId": "b8ba419c-090e-49ee-d69d-59571f00afef"
      },
      "outputs": [
        {
          "output_type": "stream",
          "name": "stderr",
          "text": [
            "<ipython-input-66-e45b077719c0>:63: FutureWarning: You are using `torch.load` with `weights_only=False` (the current default value), which uses the default pickle module implicitly. It is possible to construct malicious pickle data which will execute arbitrary code during unpickling (See https://github.com/pytorch/pytorch/blob/main/SECURITY.md#untrusted-models for more details). In a future release, the default value for `weights_only` will be flipped to `True`. This limits the functions that could be executed during unpickling. Arbitrary objects will no longer be allowed to be loaded via this mode unless they are explicitly allowlisted by the user via `torch.serialization.add_safe_globals`. We recommend you start setting `weights_only=True` for any use case where you don't have full control of the loaded file. Please open an issue on GitHub for any issues related to this experimental feature.\n",
            "  model.load_state_dict(torch.load(model_path))\n"
          ]
        },
        {
          "output_type": "display_data",
          "data": {
            "text/plain": [
              "<Figure size 1500x300 with 0 Axes>"
            ]
          },
          "metadata": {}
        },
        {
          "output_type": "stream",
          "name": "stdout",
          "text": [
            "Test Accuracy on 100 examples: 100.00%\n"
          ]
        }
      ],
      "source": [
        "import matplotlib.pyplot as plt\n",
        "import numpy as np\n",
        "import cv2\n",
        "import torch\n",
        "\n",
        "# Function to predict the digit in an OpenCV grayscale image\n",
        "def predict_digit(image, model=model, class_names=list(range(10))):\n",
        "    model.eval()  # Set model to evaluation mode\n",
        "\n",
        "    # Preprocess the image\n",
        "    image_resized = cv2.resize(image, (28, 28))\n",
        "    image_flattened = image_resized.flatten().astype(np.float32) / 255.0  # Normalize\n",
        "    image_tensor = torch.tensor(image_flattened, dtype=torch.float32).unsqueeze(0)\n",
        "\n",
        "    # Perform prediction\n",
        "    with torch.no_grad():\n",
        "        outputs = model(image_tensor)  # Forward pass\n",
        "        probabilities = torch.softmax(outputs, dim=1).numpy()[0]  # Apply softmax\n",
        "        predicted_index = np.argmax(probabilities)\n",
        "        predicted_digit = class_names[predicted_index]\n",
        "        predicted_probability = probabilities[predicted_index]\n",
        "\n",
        "    return predicted_digit, predicted_probability\n",
        "\n",
        "\n",
        "# Function to test the model and display results horizontally\n",
        "def test_model_on_dataset(images, labels, model, class_names, num_examples=5):\n",
        "    correct = 0  # Counter for correct predictions\n",
        "    total = len(images)\n",
        "\n",
        "    plt.figure(figsize=(15, 3))  # Set up horizontal figure\n",
        "\n",
        "    for i in range(num_examples):\n",
        "        image = images[i]\n",
        "        true_label = labels[i]\n",
        "\n",
        "        # Predict using the model\n",
        "        predicted_digit, probability = predict_digit(image, model, class_names)\n",
        "\n",
        "        # Check for accuracy\n",
        "        if predicted_digit == true_label:\n",
        "            correct += 1\n",
        "\n",
        "        # Display the image and prediction\n",
        "        # plt.subplot(1, num_examples, i + 1)\n",
        "        # plt.imshow(image, cmap='gray')\n",
        "        # plt.title(f\"Pred: {predicted_digit}\\nTrue: {true_label}\\nProb: {probability:.2f}\")\n",
        "        # plt.axis('off')\n",
        "\n",
        "    plt.tight_layout()\n",
        "    plt.show()\n",
        "\n",
        "    # Calculate and display accuracy\n",
        "    accuracy = correct / num_examples * 100\n",
        "    print(f\"Test Accuracy on {num_examples} examples: {accuracy:.2f}%\")\n",
        "\n",
        "\n",
        "# # Example Usage\n",
        "if __name__ == \"__main__\":\n",
        "    # Load the trained model\n",
        "    model_path = \"logistic_regression_model.pth\"  # Path to the trained model\n",
        "    model = LogisticRegressionModel(input_size=28 * 28, num_classes=10)\n",
        "    model.load_state_dict(torch.load(model_path))\n",
        "\n",
        "    # Load dataset (example images and labels)\n",
        "    images, labels = images, labels\n",
        "\n",
        "    # Test the model and show results\n",
        "    class_names = list(range(10))  # Digits 0-9\n",
        "    test_model_on_dataset(images, labels, model, class_names, num_examples=100)"
      ]
    },
    {
      "cell_type": "markdown",
      "source": [
        "## Using the model"
      ],
      "metadata": {
        "id": "KocQdDOHrtqD"
      }
    },
    {
      "cell_type": "code",
      "execution_count": 67,
      "metadata": {
        "colab": {
          "base_uri": "https://localhost:8080/",
          "height": 836
        },
        "id": "vXrlRU-k9GBr",
        "outputId": "ce686bcb-2c57-4802-a46f-9aff623958dc"
      },
      "outputs": [
        {
          "output_type": "execute_result",
          "data": {
            "text/plain": [
              "      time (s)  pressure (Pa)\n",
              "0          0.0          4.100\n",
              "1          0.3          4.000\n",
              "2          0.7          4.000\n",
              "3          1.0          3.900\n",
              "4          1.3          3.700\n",
              "...        ...            ...\n",
              "2694     898.0          0.013\n",
              "2695     898.3          0.013\n",
              "2696     898.7          0.013\n",
              "2697     899.0          0.013\n",
              "2698     899.3          0.013\n",
              "\n",
              "[2699 rows x 2 columns]"
            ],
            "text/html": [
              "\n",
              "  <div id=\"df-3db0f7be-64f5-45c9-ac02-8659f260a965\" class=\"colab-df-container\">\n",
              "    <div>\n",
              "<style scoped>\n",
              "    .dataframe tbody tr th:only-of-type {\n",
              "        vertical-align: middle;\n",
              "    }\n",
              "\n",
              "    .dataframe tbody tr th {\n",
              "        vertical-align: top;\n",
              "    }\n",
              "\n",
              "    .dataframe thead th {\n",
              "        text-align: right;\n",
              "    }\n",
              "</style>\n",
              "<table border=\"1\" class=\"dataframe\">\n",
              "  <thead>\n",
              "    <tr style=\"text-align: right;\">\n",
              "      <th></th>\n",
              "      <th>time (s)</th>\n",
              "      <th>pressure (Pa)</th>\n",
              "    </tr>\n",
              "  </thead>\n",
              "  <tbody>\n",
              "    <tr>\n",
              "      <th>0</th>\n",
              "      <td>0.0</td>\n",
              "      <td>4.100</td>\n",
              "    </tr>\n",
              "    <tr>\n",
              "      <th>1</th>\n",
              "      <td>0.3</td>\n",
              "      <td>4.000</td>\n",
              "    </tr>\n",
              "    <tr>\n",
              "      <th>2</th>\n",
              "      <td>0.7</td>\n",
              "      <td>4.000</td>\n",
              "    </tr>\n",
              "    <tr>\n",
              "      <th>3</th>\n",
              "      <td>1.0</td>\n",
              "      <td>3.900</td>\n",
              "    </tr>\n",
              "    <tr>\n",
              "      <th>4</th>\n",
              "      <td>1.3</td>\n",
              "      <td>3.700</td>\n",
              "    </tr>\n",
              "    <tr>\n",
              "      <th>...</th>\n",
              "      <td>...</td>\n",
              "      <td>...</td>\n",
              "    </tr>\n",
              "    <tr>\n",
              "      <th>2694</th>\n",
              "      <td>898.0</td>\n",
              "      <td>0.013</td>\n",
              "    </tr>\n",
              "    <tr>\n",
              "      <th>2695</th>\n",
              "      <td>898.3</td>\n",
              "      <td>0.013</td>\n",
              "    </tr>\n",
              "    <tr>\n",
              "      <th>2696</th>\n",
              "      <td>898.7</td>\n",
              "      <td>0.013</td>\n",
              "    </tr>\n",
              "    <tr>\n",
              "      <th>2697</th>\n",
              "      <td>899.0</td>\n",
              "      <td>0.013</td>\n",
              "    </tr>\n",
              "    <tr>\n",
              "      <th>2698</th>\n",
              "      <td>899.3</td>\n",
              "      <td>0.013</td>\n",
              "    </tr>\n",
              "  </tbody>\n",
              "</table>\n",
              "<p>2699 rows × 2 columns</p>\n",
              "</div>\n",
              "    <div class=\"colab-df-buttons\">\n",
              "\n",
              "  <div class=\"colab-df-container\">\n",
              "    <button class=\"colab-df-convert\" onclick=\"convertToInteractive('df-3db0f7be-64f5-45c9-ac02-8659f260a965')\"\n",
              "            title=\"Convert this dataframe to an interactive table.\"\n",
              "            style=\"display:none;\">\n",
              "\n",
              "  <svg xmlns=\"http://www.w3.org/2000/svg\" height=\"24px\" viewBox=\"0 -960 960 960\">\n",
              "    <path d=\"M120-120v-720h720v720H120Zm60-500h600v-160H180v160Zm220 220h160v-160H400v160Zm0 220h160v-160H400v160ZM180-400h160v-160H180v160Zm440 0h160v-160H620v160ZM180-180h160v-160H180v160Zm440 0h160v-160H620v160Z\"/>\n",
              "  </svg>\n",
              "    </button>\n",
              "\n",
              "  <style>\n",
              "    .colab-df-container {\n",
              "      display:flex;\n",
              "      gap: 12px;\n",
              "    }\n",
              "\n",
              "    .colab-df-convert {\n",
              "      background-color: #E8F0FE;\n",
              "      border: none;\n",
              "      border-radius: 50%;\n",
              "      cursor: pointer;\n",
              "      display: none;\n",
              "      fill: #1967D2;\n",
              "      height: 32px;\n",
              "      padding: 0 0 0 0;\n",
              "      width: 32px;\n",
              "    }\n",
              "\n",
              "    .colab-df-convert:hover {\n",
              "      background-color: #E2EBFA;\n",
              "      box-shadow: 0px 1px 2px rgba(60, 64, 67, 0.3), 0px 1px 3px 1px rgba(60, 64, 67, 0.15);\n",
              "      fill: #174EA6;\n",
              "    }\n",
              "\n",
              "    .colab-df-buttons div {\n",
              "      margin-bottom: 4px;\n",
              "    }\n",
              "\n",
              "    [theme=dark] .colab-df-convert {\n",
              "      background-color: #3B4455;\n",
              "      fill: #D2E3FC;\n",
              "    }\n",
              "\n",
              "    [theme=dark] .colab-df-convert:hover {\n",
              "      background-color: #434B5C;\n",
              "      box-shadow: 0px 1px 3px 1px rgba(0, 0, 0, 0.15);\n",
              "      filter: drop-shadow(0px 1px 2px rgba(0, 0, 0, 0.3));\n",
              "      fill: #FFFFFF;\n",
              "    }\n",
              "  </style>\n",
              "\n",
              "    <script>\n",
              "      const buttonEl =\n",
              "        document.querySelector('#df-3db0f7be-64f5-45c9-ac02-8659f260a965 button.colab-df-convert');\n",
              "      buttonEl.style.display =\n",
              "        google.colab.kernel.accessAllowed ? 'block' : 'none';\n",
              "\n",
              "      async function convertToInteractive(key) {\n",
              "        const element = document.querySelector('#df-3db0f7be-64f5-45c9-ac02-8659f260a965');\n",
              "        const dataTable =\n",
              "          await google.colab.kernel.invokeFunction('convertToInteractive',\n",
              "                                                    [key], {});\n",
              "        if (!dataTable) return;\n",
              "\n",
              "        const docLinkHtml = 'Like what you see? Visit the ' +\n",
              "          '<a target=\"_blank\" href=https://colab.research.google.com/notebooks/data_table.ipynb>data table notebook</a>'\n",
              "          + ' to learn more about interactive tables.';\n",
              "        element.innerHTML = '';\n",
              "        dataTable['output_type'] = 'display_data';\n",
              "        await google.colab.output.renderOutput(dataTable, element);\n",
              "        const docLink = document.createElement('div');\n",
              "        docLink.innerHTML = docLinkHtml;\n",
              "        element.appendChild(docLink);\n",
              "      }\n",
              "    </script>\n",
              "  </div>\n",
              "\n",
              "\n",
              "<div id=\"df-80c549eb-62d6-436a-916c-b5af8f72c70d\">\n",
              "  <button class=\"colab-df-quickchart\" onclick=\"quickchart('df-80c549eb-62d6-436a-916c-b5af8f72c70d')\"\n",
              "            title=\"Suggest charts\"\n",
              "            style=\"display:none;\">\n",
              "\n",
              "<svg xmlns=\"http://www.w3.org/2000/svg\" height=\"24px\"viewBox=\"0 0 24 24\"\n",
              "     width=\"24px\">\n",
              "    <g>\n",
              "        <path d=\"M19 3H5c-1.1 0-2 .9-2 2v14c0 1.1.9 2 2 2h14c1.1 0 2-.9 2-2V5c0-1.1-.9-2-2-2zM9 17H7v-7h2v7zm4 0h-2V7h2v10zm4 0h-2v-4h2v4z\"/>\n",
              "    </g>\n",
              "</svg>\n",
              "  </button>\n",
              "\n",
              "<style>\n",
              "  .colab-df-quickchart {\n",
              "      --bg-color: #E8F0FE;\n",
              "      --fill-color: #1967D2;\n",
              "      --hover-bg-color: #E2EBFA;\n",
              "      --hover-fill-color: #174EA6;\n",
              "      --disabled-fill-color: #AAA;\n",
              "      --disabled-bg-color: #DDD;\n",
              "  }\n",
              "\n",
              "  [theme=dark] .colab-df-quickchart {\n",
              "      --bg-color: #3B4455;\n",
              "      --fill-color: #D2E3FC;\n",
              "      --hover-bg-color: #434B5C;\n",
              "      --hover-fill-color: #FFFFFF;\n",
              "      --disabled-bg-color: #3B4455;\n",
              "      --disabled-fill-color: #666;\n",
              "  }\n",
              "\n",
              "  .colab-df-quickchart {\n",
              "    background-color: var(--bg-color);\n",
              "    border: none;\n",
              "    border-radius: 50%;\n",
              "    cursor: pointer;\n",
              "    display: none;\n",
              "    fill: var(--fill-color);\n",
              "    height: 32px;\n",
              "    padding: 0;\n",
              "    width: 32px;\n",
              "  }\n",
              "\n",
              "  .colab-df-quickchart:hover {\n",
              "    background-color: var(--hover-bg-color);\n",
              "    box-shadow: 0 1px 2px rgba(60, 64, 67, 0.3), 0 1px 3px 1px rgba(60, 64, 67, 0.15);\n",
              "    fill: var(--button-hover-fill-color);\n",
              "  }\n",
              "\n",
              "  .colab-df-quickchart-complete:disabled,\n",
              "  .colab-df-quickchart-complete:disabled:hover {\n",
              "    background-color: var(--disabled-bg-color);\n",
              "    fill: var(--disabled-fill-color);\n",
              "    box-shadow: none;\n",
              "  }\n",
              "\n",
              "  .colab-df-spinner {\n",
              "    border: 2px solid var(--fill-color);\n",
              "    border-color: transparent;\n",
              "    border-bottom-color: var(--fill-color);\n",
              "    animation:\n",
              "      spin 1s steps(1) infinite;\n",
              "  }\n",
              "\n",
              "  @keyframes spin {\n",
              "    0% {\n",
              "      border-color: transparent;\n",
              "      border-bottom-color: var(--fill-color);\n",
              "      border-left-color: var(--fill-color);\n",
              "    }\n",
              "    20% {\n",
              "      border-color: transparent;\n",
              "      border-left-color: var(--fill-color);\n",
              "      border-top-color: var(--fill-color);\n",
              "    }\n",
              "    30% {\n",
              "      border-color: transparent;\n",
              "      border-left-color: var(--fill-color);\n",
              "      border-top-color: var(--fill-color);\n",
              "      border-right-color: var(--fill-color);\n",
              "    }\n",
              "    40% {\n",
              "      border-color: transparent;\n",
              "      border-right-color: var(--fill-color);\n",
              "      border-top-color: var(--fill-color);\n",
              "    }\n",
              "    60% {\n",
              "      border-color: transparent;\n",
              "      border-right-color: var(--fill-color);\n",
              "    }\n",
              "    80% {\n",
              "      border-color: transparent;\n",
              "      border-right-color: var(--fill-color);\n",
              "      border-bottom-color: var(--fill-color);\n",
              "    }\n",
              "    90% {\n",
              "      border-color: transparent;\n",
              "      border-bottom-color: var(--fill-color);\n",
              "    }\n",
              "  }\n",
              "</style>\n",
              "\n",
              "  <script>\n",
              "    async function quickchart(key) {\n",
              "      const quickchartButtonEl =\n",
              "        document.querySelector('#' + key + ' button');\n",
              "      quickchartButtonEl.disabled = true;  // To prevent multiple clicks.\n",
              "      quickchartButtonEl.classList.add('colab-df-spinner');\n",
              "      try {\n",
              "        const charts = await google.colab.kernel.invokeFunction(\n",
              "            'suggestCharts', [key], {});\n",
              "      } catch (error) {\n",
              "        console.error('Error during call to suggestCharts:', error);\n",
              "      }\n",
              "      quickchartButtonEl.classList.remove('colab-df-spinner');\n",
              "      quickchartButtonEl.classList.add('colab-df-quickchart-complete');\n",
              "    }\n",
              "    (() => {\n",
              "      let quickchartButtonEl =\n",
              "        document.querySelector('#df-80c549eb-62d6-436a-916c-b5af8f72c70d button');\n",
              "      quickchartButtonEl.style.display =\n",
              "        google.colab.kernel.accessAllowed ? 'block' : 'none';\n",
              "    })();\n",
              "  </script>\n",
              "</div>\n",
              "\n",
              "  <div id=\"id_8145de9e-fa66-48fd-a47b-ec55ba0c7149\">\n",
              "    <style>\n",
              "      .colab-df-generate {\n",
              "        background-color: #E8F0FE;\n",
              "        border: none;\n",
              "        border-radius: 50%;\n",
              "        cursor: pointer;\n",
              "        display: none;\n",
              "        fill: #1967D2;\n",
              "        height: 32px;\n",
              "        padding: 0 0 0 0;\n",
              "        width: 32px;\n",
              "      }\n",
              "\n",
              "      .colab-df-generate:hover {\n",
              "        background-color: #E2EBFA;\n",
              "        box-shadow: 0px 1px 2px rgba(60, 64, 67, 0.3), 0px 1px 3px 1px rgba(60, 64, 67, 0.15);\n",
              "        fill: #174EA6;\n",
              "      }\n",
              "\n",
              "      [theme=dark] .colab-df-generate {\n",
              "        background-color: #3B4455;\n",
              "        fill: #D2E3FC;\n",
              "      }\n",
              "\n",
              "      [theme=dark] .colab-df-generate:hover {\n",
              "        background-color: #434B5C;\n",
              "        box-shadow: 0px 1px 3px 1px rgba(0, 0, 0, 0.15);\n",
              "        filter: drop-shadow(0px 1px 2px rgba(0, 0, 0, 0.3));\n",
              "        fill: #FFFFFF;\n",
              "      }\n",
              "    </style>\n",
              "    <button class=\"colab-df-generate\" onclick=\"generateWithVariable('final_data')\"\n",
              "            title=\"Generate code using this dataframe.\"\n",
              "            style=\"display:none;\">\n",
              "\n",
              "  <svg xmlns=\"http://www.w3.org/2000/svg\" height=\"24px\"viewBox=\"0 0 24 24\"\n",
              "       width=\"24px\">\n",
              "    <path d=\"M7,19H8.4L18.45,9,17,7.55,7,17.6ZM5,21V16.75L18.45,3.32a2,2,0,0,1,2.83,0l1.4,1.43a1.91,1.91,0,0,1,.58,1.4,1.91,1.91,0,0,1-.58,1.4L9.25,21ZM18.45,9,17,7.55Zm-12,3A5.31,5.31,0,0,0,4.9,8.1,5.31,5.31,0,0,0,1,6.5,5.31,5.31,0,0,0,4.9,4.9,5.31,5.31,0,0,0,6.5,1,5.31,5.31,0,0,0,8.1,4.9,5.31,5.31,0,0,0,12,6.5,5.46,5.46,0,0,0,6.5,12Z\"/>\n",
              "  </svg>\n",
              "    </button>\n",
              "    <script>\n",
              "      (() => {\n",
              "      const buttonEl =\n",
              "        document.querySelector('#id_8145de9e-fa66-48fd-a47b-ec55ba0c7149 button.colab-df-generate');\n",
              "      buttonEl.style.display =\n",
              "        google.colab.kernel.accessAllowed ? 'block' : 'none';\n",
              "\n",
              "      buttonEl.onclick = () => {\n",
              "        google.colab.notebook.generateWithVariable('final_data');\n",
              "      }\n",
              "      })();\n",
              "    </script>\n",
              "  </div>\n",
              "\n",
              "    </div>\n",
              "  </div>\n"
            ],
            "application/vnd.google.colaboratory.intrinsic+json": {
              "type": "dataframe",
              "variable_name": "final_data",
              "summary": "{\n  \"name\": \"final_data\",\n  \"rows\": 2699,\n  \"fields\": [\n    {\n      \"column\": \"time (s)\",\n      \"properties\": {\n        \"dtype\": \"number\",\n        \"std\": 259.7594984489088,\n        \"min\": 0.0,\n        \"max\": 899.3,\n        \"num_unique_values\": 2699,\n        \"samples\": [\n          446.3,\n          407.3,\n          368.7\n        ],\n        \"semantic_type\": \"\",\n        \"description\": \"\"\n      }\n    },\n    {\n      \"column\": \"pressure (Pa)\",\n      \"properties\": {\n        \"dtype\": \"number\",\n        \"std\": 0.43069363991465787,\n        \"min\": 0.013000000000000001,\n        \"max\": 4.1,\n        \"num_unique_values\": 197,\n        \"samples\": [\n          0.069,\n          0.096,\n          2.3\n        ],\n        \"semantic_type\": \"\",\n        \"description\": \"\"\n      }\n    }\n  ]\n}"
            }
          },
          "metadata": {},
          "execution_count": 67
        },
        {
          "output_type": "display_data",
          "data": {
            "text/plain": [
              "<Figure size 640x480 with 1 Axes>"
            ],
            "image/png": "[encoded data removed]"
          },
          "metadata": {}
        }
      ],
      "source": [
        "import pandas as pd\n",
        "\n",
        "# def model_prediction(frame, model=model):\n",
        "#   input_tensor = preprocess_opencv_image(frame)\n",
        "#   digit, prob_tensor = predict_digit(input_tensor, model)\n",
        "#   return digit\n",
        "\n",
        "def reading(album, digit_coords_1, digit_coords_2, digit_coords_3=None):\n",
        "  '''\n",
        "  frames: list of frames\n",
        "  digit_1, digit_2, digit_3: coordinates of the digit\n",
        "  '''\n",
        "  digits_1 = []\n",
        "  digits_2 = []\n",
        "  digits_3 = []\n",
        "  model.eval()\n",
        "  for fr in album:\n",
        "    d_1 = cropping(fr, digit_coords_1)\n",
        "    d_2 = cropping(fr, digit_coords_2)\n",
        "    digits_1.append(predict_digit(d_1)[0])\n",
        "    digits_2.append(predict_digit(d_2)[0])\n",
        "    if digit_coords_3 != None:\n",
        "      d_3 = cropping(fr, digit_coords_3)\n",
        "      digits_3.append(predict_digit(d_3)[0])\n",
        "    else:\n",
        "      digits_3.append(0)\n",
        "  df = pd.DataFrame(data={'d_1':digits_1, 'd_2':digits_2, 'd_3':digits_3})\n",
        "  return df\n",
        "\n",
        "df = pd.concat([reading(part_1, digit_11, digit_12),\n",
        "                reading(part_2, digit_21, digit_22),\n",
        "                reading(part_3, digit_31, digit_32, digit_33)],\n",
        "               ignore_index=True)\n",
        "# df.iloc[:, 2] = df.iloc[:, 2].apply(lambda x: x/x*4)\n",
        "# df.iloc[576:693, 1] = df.iloc[576:693, 0].apply(lambda x: x-1)\n",
        "number_deconstruct = lambda df: (abs(df['d_1']) + abs(df['d_2'])/10)/10**(abs(df['d_3']))\n",
        "\n",
        "values = number_deconstruct(df)\n",
        "time = np.round(10/fps*np.arange(len(values)), 1)\n",
        "\n",
        "final_data = pd.DataFrame({'time (s)': time, 'pressure (Pa)': values})\n",
        "final_data.to_csv('two_chambers_soviet_tv.csv', index=False)\n",
        "\n",
        "plt.scatter(time, values, s=3)\n",
        "# plt.plot(time, values)\n",
        "# plt.ylim(0, 1)\n",
        "\n",
        "# time\n",
        "\n",
        "final_data"
      ]
    },
    {
      "cell_type": "markdown",
      "source": [
        "# **Some old code that has become useless while working, but may help in future**"
      ],
      "metadata": {
        "id": "GfpluLaa-Jqw"
      }
    },
    {
      "cell_type": "markdown",
      "metadata": {
        "id": "WaFeobXSshf2"
      },
      "source": [
        "## Training a special model"
      ]
    },
    {
      "cell_type": "markdown",
      "metadata": {
        "id": "xF1zTltV5YlM"
      },
      "source": [
        "Dataset generation (creating an artificial dataset)"
      ]
    },
    {
      "cell_type": "code",
      "execution_count": null,
      "metadata": {
        "colab": {
          "base_uri": "https://localhost:8080/"
        },
        "id": "Ohqj2y0m5XCC",
        "outputId": "6082d056-415b-4207-fa3d-f314e239b7cf"
      },
      "outputs": [
        {
          "name": "stdout",
          "output_type": "stream",
          "text": [
            "Dataset saved to mnist_style_dataset.npz\n",
            "Loaded images shape: (1000, 100, 100)\n"
          ]
        }
      ],
      "source": [
        "from PIL import Image, ImageDraw, ImageFont\n",
        "import cv2\n",
        "import numpy as np\n",
        "import random\n",
        "import os\n",
        "\n",
        "# Function to generate a single image with a digit\n",
        "def generate_image(number, font_path, image_size=(28, 28)):\n",
        "    # Create a blank image\n",
        "    img = Image.new('RGB', (100, 180), color='white')\n",
        "    draw = ImageDraw.Draw(img)\n",
        "    # Convert number to text\n",
        "    text = f\"{number:.1f}\".replace('.', ', ') if isinstance(number, float) else str(number)\n",
        "    # Load the font\n",
        "    try:\n",
        "        font = ImageFont.truetype(font_path, size=130)\n",
        "    except Exception as e:\n",
        "        print(f\"Error loading font: {e}\")\n",
        "        return None\n",
        "    # Center the text\n",
        "    text_bbox = font.getbbox(text)\n",
        "    text_width, text_height = text_bbox[2] - text_bbox[0], text_bbox[3] - text_bbox[1]\n",
        "    text_x, text_y = (img.width - text_width) / 2, (img.height - text_height) / 2*0.2\n",
        "    # Draw the text\n",
        "    draw.text((text_x, text_y), text, font=font, fill=\"black\")\n",
        "    # Convert PIL image to grayscale NumPy array and resize to MNIST size\n",
        "    img_np = np.array(img)\n",
        "    img_blured = cv2.GaussianBlur(img_np, (13, 13), 0)\n",
        "    img_noised = add_noise(img_blured)\n",
        "    img_gray = cv2.cvtColor(img_noised, cv2.COLOR_RGB2GRAY)\n",
        "    img_resized = cv2.resize(img_gray, image_size, interpolation=cv2.INTER_AREA)\n",
        "    return img_resized\n",
        "\n",
        "# Function to generate the dataset\n",
        "def generate_dataset(font_path, num_samples=1000, image_size=(28, 28)):\n",
        "    images = []\n",
        "    labels = []\n",
        "\n",
        "    for i in range(num_samples):\n",
        "        # Randomly choose between a digit or a float\n",
        "        # if random.random() > 0.5:  # 50% chance of being a float\n",
        "        #     number = round(random.uniform(0, 100), 1)\n",
        "        # else:  # Otherwise it's an integer\n",
        "        #     number = random.randint(0, 9)\n",
        "        number = random.randint(0, 9)\n",
        "        img = generate_image(number, font_path, image_size)\n",
        "        if img is None:\n",
        "            print(f\"Skipping sample {i} due to image generation failure.\")\n",
        "            continue\n",
        "\n",
        "        images.append(img)\n",
        "        labels.append(number)\n",
        "\n",
        "    # Convert lists to NumPy arrays\n",
        "    images = np.array(images, dtype=np.uint8)\n",
        "    # print(images.max())\n",
        "    labels = np.array(labels, dtype=object)  # Use `object` type to handle floats and integers\n",
        "\n",
        "    return images, labels\n",
        "\n",
        "# Save dataset to a single file\n",
        "def save_dataset(images, labels, output_file):\n",
        "    np.savez_compressed(output_file, images=images, labels=labels)\n",
        "    print(f\"Dataset saved to {output_file}\")\n",
        "\n",
        "# Main execution\n",
        "# font_file_path = \"/content/DS-DIGIB.TTF\"  # Path to DS-Digital font file\n",
        "font_file_path = \"/content/DigitalNumbers-Regular.ttf\"\n",
        "output_file_path = \"mnist_style_dataset.npz\"  # Output file for dataset\n",
        "\n",
        "# Generate and save dataset\n",
        "\n",
        "image_size = (100, 100)\n",
        "\n",
        "images, labels = generate_dataset(font_file_path, num_samples=1000, image_size=image_size)\n",
        "save_dataset(images, labels, output_file_path)\n",
        "\n",
        "# Verification (Load dataset and check shape)\n",
        "loaded_data = np.load(output_file_path)\n",
        "print(f\"Loaded images shape: {loaded_data['images'].shape}\")\n",
        "# print(f\"Loaded labels shape: {loaded_data['labels'].shape}\")\n"
      ]
    },
    {
      "cell_type": "markdown",
      "metadata": {
        "id": "I9xreomX5eYv"
      },
      "source": [
        "Some generated samples"
      ]
    },
    {
      "cell_type": "code",
      "execution_count": null,
      "metadata": {
        "colab": {
          "base_uri": "https://localhost:8080/",
          "height": 187
        },
        "id": "9LSaBK6C5i-9",
        "outputId": "905b8485-20eb-4d03-8a6f-a515e1566ea1"
      },
      "outputs": [
        {
          "data": {
            "image/png": "[encoded data removed]",
            "text/plain": [
              "<Figure size 2000x300 with 10 Axes>"
            ]
          },
          "metadata": {},
          "output_type": "display_data"
        }
      ],
      "source": [
        "import matplotlib.pyplot as plt\n",
        "import numpy as np\n",
        "\n",
        "def show_samples(dataset_path, num_samples=10):\n",
        "    data = np.load(dataset_path, allow_pickle=True)\n",
        "    images = data['images']\n",
        "    labels = data['labels']\n",
        "\n",
        "    # Check the number of samples available\n",
        "    num_samples = min(num_samples, len(images))\n",
        "\n",
        "    # Plot the samples\n",
        "    fig, axes = plt.subplots(1, num_samples, figsize=(num_samples * 2, 3))\n",
        "    for i in range(num_samples):\n",
        "        ax = axes[i]\n",
        "        ax.imshow(images[i], cmap='gray')\n",
        "        ax.set_title(str(labels[i]))  # Show label as title\n",
        "        ax.axis('off')\n",
        "\n",
        "    plt.tight_layout()\n",
        "    plt.show()\n",
        "\n",
        "\n",
        "# Example usage\n",
        "dataset_file = \"mnist_style_dataset.npz\"\n",
        "show_samples(dataset_file, num_samples=10)\n",
        "\n"
      ]
    },
    {
      "cell_type": "markdown",
      "metadata": {
        "id": "gnHWTZTl9Uu9"
      },
      "source": [
        "Training the model"
      ]
    },
    {
      "cell_type": "code",
      "execution_count": null,
      "metadata": {
        "colab": {
          "base_uri": "https://localhost:8080/"
        },
        "id": "w_hPZ7Zh4z2H",
        "outputId": "637d8547-713c-4908-b018-03fd0c52a2c9"
      },
      "outputs": [
        {
          "name": "stdout",
          "output_type": "stream",
          "text": [
            "Epoch 1, Loss: 0.6455\n",
            "Epoch 2, Loss: 0.3467\n",
            "Epoch 3, Loss: 0.1764\n",
            "Epoch 4, Loss: 0.1418\n",
            "Epoch 5, Loss: 0.1078\n",
            "Epoch 6, Loss: 0.0895\n",
            "Epoch 7, Loss: 0.0784\n",
            "Epoch 8, Loss: 0.0657\n",
            "Epoch 9, Loss: 0.0559\n",
            "Epoch 10, Loss: 0.0466\n",
            "Test Accuracy: 100.00%\n",
            "True Label: 5\n",
            "Predicted Digit: 5\n",
            "Probabilities: tensor([[3.9014e-04, 3.6498e-05, 1.1577e-04, 8.0596e-03, 1.1012e-03, 9.5026e-01,\n",
            "         2.9373e-02, 2.0563e-04, 2.8967e-03, 7.5657e-03]],\n",
            "       grad_fn=<SoftmaxBackward0>)\n"
          ]
        }
      ],
      "source": [
        "import numpy as np\n",
        "import torch\n",
        "import torch.nn as nn\n",
        "import torch.optim as optim\n",
        "from torch.utils.data import Dataset, DataLoader, random_split\n",
        "from torchvision import transforms\n",
        "\n",
        "X, Y = 100, 100\n",
        "\n",
        "# Custom Dataset Class\n",
        "class CustomMNISTDataset(Dataset):\n",
        "    def __init__(self, npz_file, transform=None):\n",
        "        # Load data from .npz file\n",
        "        data = np.load(npz_file, allow_pickle=True)  # Explicitly allow pickle\n",
        "        self.images = data['images']  # Shape: (num_samples, height, width)\n",
        "        self.labels = data['labels']  # Shape: (num_samples,)\n",
        "        self.transform = transform\n",
        "\n",
        "    def __len__(self):\n",
        "        return len(self.labels)\n",
        "\n",
        "    def __getitem__(self, idx):\n",
        "        image = self.images[idx]\n",
        "        label = int(self.labels[idx])  # Ensure labels are integers\n",
        "\n",
        "        # Apply transformation if specified\n",
        "        if self.transform:\n",
        "            image = self.transform(image)\n",
        "\n",
        "        return image, label\n",
        "\n",
        "\n",
        "# Transformation Pipeline\n",
        "transform = transforms.Compose([\n",
        "    transforms.ToPILImage(),                # Convert NumPy array to PIL image\n",
        "    transforms.Grayscale(num_output_channels=1),  # Ensure grayscale\n",
        "    transforms.Resize((Y, X)),            # Resize to MNIST size\n",
        "    transforms.ToTensor(),                  # Convert to tensor and normalize to [0, 1]\n",
        "    transforms.Normalize((0.5,), (0.5,))    # Normalize to mean=0.5, std=0.5\n",
        "])\n",
        "\n",
        "# Load Custom Dataset\n",
        "npz_file_path = \"mnist_style_dataset.npz\"  # Replace with your dataset file\n",
        "custom_dataset = CustomMNISTDataset(npz_file=npz_file_path, transform=transform)\n",
        "\n",
        "# Split Dataset into Training and Testing\n",
        "train_size = int(0.8 * len(custom_dataset))  # 80% for training\n",
        "test_size = len(custom_dataset) - train_size  # 20% for testing\n",
        "train_dataset, test_dataset = random_split(custom_dataset, [train_size, test_size])\n",
        "\n",
        "# Create DataLoaders\n",
        "batch_size = 20\n",
        "train_loader = DataLoader(train_dataset, batch_size=batch_size, shuffle=True)\n",
        "test_loader = DataLoader(test_dataset, batch_size=batch_size, shuffle=False)\n",
        "\n",
        "\n",
        "# Logistic Regression Model\n",
        "class LogisticRegressionModel(nn.Module):\n",
        "    def __init__(self):\n",
        "        super(LogisticRegressionModel, self).__init__()\n",
        "        self.linear = nn.Linear(Y*X, 10)  # 28*28 input features, 10 output classes\n",
        "\n",
        "    def forward(self, x):\n",
        "        x = x.view(-1, Y*X)  # Flatten the image\n",
        "        return self.linear(x)\n",
        "\n",
        "\n",
        "# Initialize Model, Loss, and Optimizer\n",
        "model = LogisticRegressionModel()\n",
        "criterion = nn.CrossEntropyLoss()\n",
        "optimizer = optim.SGD(model.parameters(), lr=0.01)\n",
        "\n",
        "\n",
        "# Training Loop\n",
        "num_epochs = 10\n",
        "for epoch in range(num_epochs):\n",
        "    model.train()\n",
        "    for images, labels in train_loader:\n",
        "        optimizer.zero_grad()\n",
        "        outputs = model(images)\n",
        "        loss = criterion(outputs, labels)\n",
        "        loss.backward()\n",
        "        optimizer.step()\n",
        "    print(f\"Epoch {epoch+1}, Loss: {loss.item():.4f}\")\n",
        "\n",
        "\n",
        "# Evaluation\n",
        "model.eval()\n",
        "correct = 0\n",
        "total = 0\n",
        "with torch.no_grad():\n",
        "    for images, labels in test_loader:\n",
        "        outputs = model(images)\n",
        "        _, predicted = torch.max(outputs, 1)\n",
        "        total += labels.size(0)\n",
        "        correct += (predicted == labels).sum().item()\n",
        "\n",
        "print(f\"Test Accuracy: {100 * correct / total:.2f}%\")\n",
        "\n",
        "\n",
        "# Prediction Example\n",
        "image, label = test_dataset[0]  # Get a test sample\n",
        "image = image.unsqueeze(0)  # Add batch dimension\n",
        "\n",
        "model.eval()\n",
        "output = model(image)\n",
        "probabilities = torch.softmax(output, dim=1)\n",
        "\n",
        "print(f\"True Label: {label}\")\n",
        "print(f\"Predicted Digit: {probabilities.argmax().item()}\")\n",
        "print(f\"Probabilities: {probabilities}\")"
      ]
    },
    {
      "cell_type": "markdown",
      "source": [
        "One more testing..."
      ],
      "metadata": {
        "id": "oochEcDNALZh"
      }
    },
    {
      "cell_type": "markdown",
      "source": [],
      "metadata": {
        "id": "eBnrkq7f-HLQ"
      }
    },
    {
      "cell_type": "code",
      "execution_count": null,
      "metadata": {
        "colab": {
          "base_uri": "https://localhost:8080/",
          "height": 322
        },
        "id": "ISzOZp_p-pEu",
        "outputId": "0bcdd4dd-cd0b-4fde-b5d7-ccf7cc5c4ef8"
      },
      "outputs": [
        {
          "data": {
            "image/png": "[encoded data removed]",
            "text/plain": [
              "<Figure size 1500x300 with 5 Axes>"
            ]
          },
          "metadata": {},
          "output_type": "display_data"
        }
      ],
      "source": [
        "import matplotlib.pyplot as plt\n",
        "import torch\n",
        "from torchvision.transforms import ToPILImage\n",
        "\n",
        "# Function to test the model on some samples and visualize results\n",
        "def test_and_visualize_samples(model, dataset, num_samples=5):\n",
        "    # Set the model to evaluation mode\n",
        "    model.eval()\n",
        "\n",
        "    # Randomly select some samples from the dataset\n",
        "    indices = torch.randint(0, len(dataset), (num_samples,))\n",
        "    samples = [dataset[i] for i in indices]\n",
        "\n",
        "    # Create a figure to display the images and predictions\n",
        "    fig, axes = plt.subplots(1, num_samples, figsize=(15, 3))\n",
        "\n",
        "    for i, (image, label) in enumerate(samples):\n",
        "        # Prepare the image for the model\n",
        "        input_tensor = image.unsqueeze(0)  # Add batch dimension\n",
        "\n",
        "        # Predict the digit\n",
        "        with torch.no_grad():\n",
        "            output = model(input_tensor)\n",
        "            probabilities = torch.softmax(output, dim=1)\n",
        "            predicted_digit = probabilities.argmax().item()\n",
        "\n",
        "        # Display the image and predictions\n",
        "        image_to_show = ToPILImage()(image)  # Convert tensor back to image\n",
        "        axes[i].imshow(image_to_show, cmap=\"gray\")\n",
        "        axes[i].set_title(f\"Label: {label}\\nPred: {predicted_digit}\")\n",
        "        axes[i].axis(\"off\")\n",
        "\n",
        "    plt.tight_layout()\n",
        "    plt.show()\n",
        "\n",
        "# Test and visualize predictions\n",
        "test_and_visualize_samples(model, test_dataset, num_samples=5)\n"
      ]
    },
    {
      "cell_type": "markdown",
      "metadata": {
        "id": "mjErWceEAWsC"
      },
      "source": [
        "## Using the model"
      ]
    },
    {
      "cell_type": "code",
      "execution_count": null,
      "metadata": {
        "id": "FKSZW0pA_ZwG"
      },
      "outputs": [],
      "source": [
        "import cv2\n",
        "import torch\n",
        "from torchvision import transforms\n",
        "import torch.nn as nn\n",
        "import torch.nn.functional as F\n",
        "\n",
        "# Define the Logistic Regression model\n",
        "class LogisticRegressionModel(nn.Module):\n",
        "    def __init__(self):\n",
        "        super(LogisticRegressionModel, self).__init__()\n",
        "        self.flatten = nn.Flatten()\n",
        "        self.linear = nn.Linear(Y*X, 10)  # Input: 28x28 pixels, Output: 10 classes\n",
        "\n",
        "    def forward(self, x):\n",
        "        x = self.flatten(x)\n",
        "        logits = self.linear(x)\n",
        "        return logits\n",
        "\n",
        "# Preprocessing function for OpenCV image\n",
        "def preprocess_opencv_image(image):\n",
        "    \"\"\"\n",
        "    Preprocess an OpenCV image for the PyTorch model.\n",
        "\n",
        "    Args:\n",
        "        image (numpy.ndarray): The input image in OpenCV format (BGR or grayscale).\n",
        "\n",
        "    Returns:\n",
        "        torch.Tensor: Preprocessed image tensor ready for the model.\n",
        "    \"\"\"\n",
        "    # Ensure the image is grayscale\n",
        "    # if len(image.shape) == 3:  # If the image has 3 channels (BGR)\n",
        "        # image = cv2.cvtColor(image, cv2.COLOR_BGR2GRAY)\n",
        "\n",
        "    # Resize the image to 28x28\n",
        "\n",
        "    img_resized = cv2.resize(image, (Y, X), interpolation=cv2.INTER_AREA)\n",
        "    img_blured = cv2.GaussianBlur(image, (13, 13), 0)\n",
        "    # img_noised = add_noise(image)\n",
        "    # img_gray = cv2.cvtColor(img_noised, cv2.COLOR_RGB2GRAY)\n",
        "    # img_resized = cv2.resize(image_nosied, image_size, interpolation=cv2.INTER_AREA)\n",
        "\n",
        "    resized_image = cv2.resize(img_blured, (Y, X), interpolation=cv2.INTER_AREA)\n",
        "\n",
        "    cv2_imshow(resized_image)\n",
        "\n",
        "    # Normalize the image (scale pixel values to [0, 1], then normalize to mean=0.5, std=0.5)\n",
        "    transform = transforms.Compose([\n",
        "        transforms.ToTensor(),  # Convert to tensor and scale to [0, 1]\n",
        "        transforms.Normalize((0.5,), (0.5,))  # Normalize to mean=0.5, std=0.5\n",
        "    ])\n",
        "\n",
        "    # Apply the transformation\n",
        "    tensor_image = transform(resized_image)\n",
        "\n",
        "    # Add a batch dimension\n",
        "    return tensor_image.unsqueeze(0)\n",
        "\n",
        "# Function to make predictions\n",
        "def predict_digit(image_tensor, model):\n",
        "    \"\"\"\n",
        "    Predict the digit using the trained model.\n",
        "\n",
        "    Args:\n",
        "        image_tensor (torch.Tensor): Preprocessed image tensor.\n",
        "        model (nn.Module): Trained PyTorch model.\n",
        "\n",
        "    Returns:\n",
        "        int: Predicted digit.\n",
        "        torch.Tensor: Probabilities for each class.\n",
        "    \"\"\"\n",
        "    with torch.no_grad():\n",
        "        output = model(image_tensor)  # Forward pass\n",
        "        probabilities = torch.softmax(output, dim=1)  # Get probabilities\n",
        "        predicted_digit = probabilities.argmax().item()  # Get the most likely digit\n",
        "    return predicted_digit, probabilities\n",
        "\n",
        "# Load and preprocess the OpenCV image\n",
        "opencv_image = indicator_1 #the variable will be initialized later...\n",
        "input_tensor = preprocess_opencv_image(opencv_image)\n",
        "\n",
        "# Predict the digit\n",
        "predicted_digit, probabilities = predict_digit(input_tensor, model)\n",
        "\n",
        "# Output the result\n",
        "print(f\"Predicted Digit: {predicted_digit}\")\n",
        "print(f\"Probabilities: {probabilities}\")\n"
      ]
    },
    {
      "cell_type": "markdown",
      "metadata": {
        "id": "EWrXj4wZz-fL"
      },
      "source": []
    }
  ],
  "metadata": {
    "colab": {
      "collapsed_sections": [
        "WaFeobXSshf2",
        "mjErWceEAWsC"
      ],
      "gpuType": "T4",
      "provenance": []
    },
    "kernelspec": {
      "display_name": "Python 3",
      "name": "python3"
    },
    "language_info": {
      "name": "python"
    },
    "widgets": {
      "application/vnd.jupyter.widget-state+json": {
        "27a11e49218943ba90773e53e3471e00": {
          "model_module": "@jupyter-widgets/controls",
          "model_name": "TextModel",
          "model_module_version": "1.5.0",
          "state": {
            "_dom_classes": [],
            "_model_module": "@jupyter-widgets/controls",
            "_model_module_version": "1.5.0",
            "_model_name": "TextModel",
            "_view_count": null,
            "_view_module": "@jupyter-widgets/controls",
            "_view_module_version": "1.5.0",
            "_view_name": "TextView",
            "continuous_update": true,
            "description": "Digit:",
            "description_tooltip": null,
            "disabled": false,
            "layout": "IPY_MODEL_f333d348e66e46d98ae7cb8770d86880",
            "placeholder": "Enter recognized digit or 'q' to quit",
            "style": "IPY_MODEL_c341304dde9141e2beea46e15c427b02",
            "value": "q"
          }
        },
        "f333d348e66e46d98ae7cb8770d86880": {
          "model_module": "@jupyter-widgets/base",
          "model_name": "LayoutModel",
          "model_module_version": "1.2.0",
          "state": {
            "_model_module": "@jupyter-widgets/base",
            "_model_module_version": "1.2.0",
            "_model_name": "LayoutModel",
            "_view_count": null,
            "_view_module": "@jupyter-widgets/base",
            "_view_module_version": "1.2.0",
            "_view_name": "LayoutView",
            "align_content": null,
            "align_items": null,
            "align_self": null,
            "border": null,
            "bottom": null,
            "display": null,
            "flex": null,
            "flex_flow": null,
            "grid_area": null,
            "grid_auto_columns": null,
            "grid_auto_flow": null,
            "grid_auto_rows": null,
            "grid_column": null,
            "grid_gap": null,
            "grid_row": null,
            "grid_template_areas": null,
            "grid_template_columns": null,
            "grid_template_rows": null,
            "height": null,
            "justify_content": null,
            "justify_items": null,
            "left": null,
            "margin": null,
            "max_height": null,
            "max_width": null,
            "min_height": null,
            "min_width": null,
            "object_fit": null,
            "object_position": null,
            "order": null,
            "overflow": null,
            "overflow_x": null,
            "overflow_y": null,
            "padding": null,
            "right": null,
            "top": null,
            "visibility": null,
            "width": null
          }
        },
        "c341304dde9141e2beea46e15c427b02": {
          "model_module": "@jupyter-widgets/controls",
          "model_name": "DescriptionStyleModel",
          "model_module_version": "1.5.0",
          "state": {
            "_model_module": "@jupyter-widgets/controls",
            "_model_module_version": "1.5.0",
            "_model_name": "DescriptionStyleModel",
            "_view_count": null,
            "_view_module": "@jupyter-widgets/base",
            "_view_module_version": "1.2.0",
            "_view_name": "StyleView",
            "description_width": ""
          }
        },
        "dfa75dbc0026469f8a42d4e2dbdad8db": {
          "model_module": "@jupyter-widgets/output",
          "model_name": "OutputModel",
          "model_module_version": "1.0.0",
          "state": {
            "_dom_classes": [],
            "_model_module": "@jupyter-widgets/output",
            "_model_module_version": "1.0.0",
            "_model_name": "OutputModel",
            "_view_count": null,
            "_view_module": "@jupyter-widgets/output",
            "_view_module_version": "1.0.0",
            "_view_name": "OutputView",
            "layout": "IPY_MODEL_7eea66d01f3e4dbda650492dd35c6a6f",
            "msg_id": "",
            "outputs": [
              {
                "output_type": "display_data",
                "data": {
                  "text/plain": "<Figure size 640x480 with 1 Axes>",
                  "image/png": "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\n"
                },
                "metadata": {}
              }
            ]
          }
        },
        "7eea66d01f3e4dbda650492dd35c6a6f": {
          "model_module": "@jupyter-widgets/base",
          "model_name": "LayoutModel",
          "model_module_version": "1.2.0",
          "state": {
            "_model_module": "@jupyter-widgets/base",
            "_model_module_version": "1.2.0",
            "_model_name": "LayoutModel",
            "_view_count": null,
            "_view_module": "@jupyter-widgets/base",
            "_view_module_version": "1.2.0",
            "_view_name": "LayoutView",
            "align_content": null,
            "align_items": null,
            "align_self": null,
            "border": null,
            "bottom": null,
            "display": null,
            "flex": null,
            "flex_flow": null,
            "grid_area": null,
            "grid_auto_columns": null,
            "grid_auto_flow": null,
            "grid_auto_rows": null,
            "grid_column": null,
            "grid_gap": null,
            "grid_row": null,
            "grid_template_areas": null,
            "grid_template_columns": null,
            "grid_template_rows": null,
            "height": null,
            "justify_content": null,
            "justify_items": null,
            "left": null,
            "margin": null,
            "max_height": null,
            "max_width": null,
            "min_height": null,
            "min_width": null,
            "object_fit": null,
            "object_position": null,
            "order": null,
            "overflow": null,
            "overflow_x": null,
            "overflow_y": null,
            "padding": null,
            "right": null,
            "top": null,
            "visibility": null,
            "width": null
          }
        }
      }
    }
  },
  "nbformat": 4,
  "nbformat_minor": 0
}